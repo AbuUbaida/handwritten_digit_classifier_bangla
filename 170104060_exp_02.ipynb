{
  "nbformat": 4,
  "nbformat_minor": 0,
  "metadata": {
    "accelerator": "GPU",
    "colab": {
      "name": "170104060_exp_02.ipynb",
      "provenance": []
    },
    "kernelspec": {
      "display_name": "Python 3",
      "language": "python",
      "name": "python3"
    },
    "language_info": {
      "codemirror_mode": {
        "name": "ipython",
        "version": 3
      },
      "file_extension": ".py",
      "mimetype": "text/x-python",
      "name": "python",
      "nbconvert_exporter": "python",
      "pygments_lexer": "ipython3",
      "version": "3.8.11"
    }
  },
  "cells": [
    {
      "cell_type": "markdown",
      "metadata": {
        "id": "_C_FgFW8_gHt"
      },
      "source": [
        "# **Import Packages**"
      ]
    },
    {
      "cell_type": "code",
      "metadata": {
        "id": "9e3049a5"
      },
      "source": [
        "import os\n",
        "import glob\n",
        "import torch\n",
        "import numpy as np\n",
        "import pandas as pd\n",
        "import os.path as osp\n",
        "from PIL import Image\n",
        "import torch.nn as nn\n",
        "from numpy import mean\n",
        "import torchvision as tv\n",
        "from torch.utils import data\n",
        "from google.colab import drive\n",
        "import matplotlib.pyplot as plt\n",
        "from torch.autograd import Variable\n",
        "from torchvision.utils import make_grid\n",
        "from torch.utils.data import DataLoader, Dataset\n",
        "from torchvision import datasets, transforms, models\n",
        "\n",
        "# from skimage import io\n",
        "# from IPython.display import Image\n",
        "\n",
        "torch.manual_seed(60)\n",
        "%matplotlib inline"
      ],
      "execution_count": null,
      "outputs": []
    },
    {
      "cell_type": "markdown",
      "metadata": {
        "id": "xAPjOsywtsDG"
      },
      "source": [
        "# **Dataset 1**"
      ]
    },
    {
      "cell_type": "markdown",
      "metadata": {
        "id": "8zR0EK8dlCXi"
      },
      "source": [
        "## **Dataset Preperation**"
      ]
    },
    {
      "cell_type": "code",
      "metadata": {
        "colab": {
          "base_uri": "https://localhost:8080/"
        },
        "id": "wSD9E1iwmk9B",
        "outputId": "1f0b19d5-5329-4b0b-c1c2-61967600ed35"
      },
      "source": [
        "# uploaded = files.upload()\n",
        "# df = pd.read_csv(io.BytesIO(uploaded['training-a.csv']))\n",
        "# df.head()\n",
        "\n",
        "drive.mount(\"/content/gdrive\")"
      ],
      "execution_count": null,
      "outputs": [
        {
          "name": "stdout",
          "output_type": "stream",
          "text": [
            "Mounted at /content/gdrive\n"
          ]
        }
      ]
    },
    {
      "cell_type": "code",
      "metadata": {
        "id": "H68uYi1_gp2W"
      },
      "source": [
        "df = pd.read_csv('/content/gdrive/MyDrive/Colab Notebooks/SCLab/Assignment2/training-a.csv')\n",
        "df.head()"
      ],
      "execution_count": null,
      "outputs": []
    },
    {
      "cell_type": "code",
      "metadata": {
        "colab": {
          "base_uri": "https://localhost:8080/"
        },
        "id": "4gPqNh7Fn3ky",
        "outputId": "189165e0-a3c2-46c8-a392-94dde35f11a2"
      },
      "source": [
        "df.drop(['original filename', 'scanid', 'database name original', 'contributing team', 'database name'], axis = 1, inplace = True)\n",
        "df.to_csv('training_set.csv', index = False)\n",
        "df = pd.read_csv('/content/gdrive/MyDrive/Colab Notebooks/SCLab/Assignment2/training_set.csv')\n",
        "df.shape"
      ],
      "execution_count": null,
      "outputs": [
        {
          "data": {
            "text/plain": [
              "(19702, 2)"
            ]
          },
          "execution_count": 4,
          "metadata": {},
          "output_type": "execute_result"
        }
      ]
    },
    {
      "cell_type": "code",
      "metadata": {
        "id": "eKDxwEKwyHnx"
      },
      "source": [
        "class DigitDataset(Dataset):\n",
        "    def __init__(self, csv_file, root_dir, transform = None):\n",
        "        self.annotations = pd.read_csv(csv_file)\n",
        "        self.root_dir = root_dir\n",
        "        self.transform = transform\n",
        "\n",
        "    def __len__(self):\n",
        "        return len(self.annotations)\n",
        "\n",
        "    def __getitem__(self, index):\n",
        "        img_path = os.path.join(self.root_dir, self.annotations.iloc[index, 0])\n",
        "        image = Image.open(img_path).convert('L')\n",
        "        y_label = torch.tensor(int(self.annotations.iloc[index, 1]))\n",
        "\n",
        "        if self.transform:\n",
        "            image = self.transform(image)\n",
        "            \n",
        "        return image, y_label"
      ],
      "execution_count": null,
      "outputs": []
    },
    {
      "cell_type": "markdown",
      "metadata": {
        "id": "1m_M4uQ5BXQ4"
      },
      "source": [
        "## **1st Attempt**"
      ]
    },
    {
      "cell_type": "markdown",
      "metadata": {
        "id": "mDSYaVJdA7oM"
      },
      "source": [
        "### **DNN Model**"
      ]
    },
    {
      "cell_type": "code",
      "metadata": {
        "id": "EWgDOB9LA7oM"
      },
      "source": [
        "class DeepNeuralNetworkModel(nn.Module):\n",
        "    def __init__(self, input_size, num_classes, num_hidden):\n",
        "        super().__init__()\n",
        "\n",
        "        self.linear_1 = nn.Linear(input_size, num_hidden)\n",
        "        self.relu_1 = nn.ReLU()\n",
        "\n",
        "        self.linear_2 = nn.Linear(num_hidden, num_hidden)\n",
        "        self.relu_2 = nn.ReLU()\n",
        "\n",
        "        self.linear_3 = nn.Linear(num_hidden, num_hidden)\n",
        "        self.relu_3 = nn.ReLU()\n",
        "\n",
        "        self.linear_4 = nn.Linear(num_hidden, num_hidden)\n",
        "        self.relu_4 = nn.ReLU()\n",
        "\n",
        "        self.linear_5 = nn.Linear(num_hidden, num_hidden)\n",
        "        self.relu_5 = nn.ReLU()\n",
        "\n",
        "        self.linear_6 = nn.Linear(num_hidden, num_hidden)\n",
        "        self.relu_6 = nn.ReLU()\n",
        "\n",
        "        self.linear_out = nn.Linear(num_hidden, num_classes)\n",
        "\n",
        "    def forward(self, x):\n",
        "        out  = self.linear_1(x)\n",
        "        out = self.relu_1(out)\n",
        "        \n",
        "        out  = self.linear_2(out)\n",
        "        out = self.relu_2(out)\n",
        "\n",
        "        out  = self.linear_3(out)\n",
        "        out = self.relu_3(out)\n",
        "\n",
        "        out  = self.linear_4(out)\n",
        "        out = self.relu_4(out)\n",
        "\n",
        "        out  = self.linear_5(out)\n",
        "        out = self.relu_5(out)\n",
        "\n",
        "        out  = self.linear_6(out)\n",
        "        out = self.relu_6(out)\n",
        "        \n",
        "        probas = self.linear_out(out)\n",
        "        return probas"
      ],
      "execution_count": null,
      "outputs": []
    },
    {
      "cell_type": "markdown",
      "metadata": {
        "id": "SBROYZ1eA7oP"
      },
      "source": [
        "### **Model Training**"
      ]
    },
    {
      "cell_type": "code",
      "metadata": {
        "colab": {
          "base_uri": "https://localhost:8080/"
        },
        "id": "1_xmJrQqA7oQ",
        "outputId": "143a3572-ddab-4d4c-a938-5f8c92a15a90"
      },
      "source": [
        "batch_size = 512\n",
        "num_iters = 50000\n",
        "input_dim = 180*180\n",
        "num_hidden = 200\n",
        "output_dim = 10\n",
        "learning_rate = 0.05\n",
        "# number of hidden layers = 6\n",
        "\n",
        "device = torch.device(\"cuda:0\" if torch.cuda.is_available() else \"cpu\")\n",
        "print(device)\n",
        "\n",
        "mean = 0.5\n",
        "std = 0.5\n",
        "custom_transform = transforms.Compose([transforms.Resize(180), transforms.ToTensor(), transforms.Normalize(mean, std)])\n",
        "dataset = DigitDataset(csv_file = '/content/gdrive/MyDrive/Colab Notebooks/SCLab/Assignment2/training_set.csv',\n",
        "                       root_dir = '/content/gdrive/MyDrive/Colab Notebooks/SCLab/Assignment2/training-a',\n",
        "                       transform = custom_transform)\n",
        "\n",
        "dataset_len = len(dataset)\n",
        "train_len = int(dataset_len * 0.8)\n",
        "test_len = dataset_len - train_len\n",
        "train_set, test_set = data.random_split(dataset, [train_len, test_len])\n",
        "\n",
        "num_epochs = num_iters / (len(train_set) / batch_size)\n",
        "num_epochs = int(num_epochs)\n",
        "\n",
        "train_loader = DataLoader(dataset = train_set, batch_size = batch_size, shuffle = True)\n",
        "test_loader = DataLoader(dataset = test_set, batch_size = batch_size, shuffle = False)\n",
        "\n",
        "print('Train loader: ', len(train_loader))\n",
        "print('Test loader: ', len(test_loader))\n",
        "print('Per image size: ', train_set[0][0].numpy().shape)\n",
        "print('Sample label: 1st image: ', train_set[0][1])"
      ],
      "execution_count": null,
      "outputs": [
        {
          "name": "stdout",
          "output_type": "stream",
          "text": [
            "cuda:0\n",
            "Train loader:  31\n",
            "Test loader:  8\n",
            "Per image size:  (1, 180, 180)\n",
            "Sample label: 1st image:  tensor(4)\n"
          ]
        }
      ]
    },
    {
      "cell_type": "code",
      "metadata": {
        "id": "H5rW2XdA5sEP"
      },
      "source": [
        "iter = 0\n",
        "iter_list = []\n",
        "loss_list = []\n",
        "\n",
        "model = DeepNeuralNetworkModel(input_size = input_dim, num_classes = output_dim, num_hidden = num_hidden)\n",
        "model.to(device)\n",
        "\n",
        "criterion = nn.CrossEntropyLoss()\n",
        "optimizer = torch.optim.Adam(model.parameters(), lr = learning_rate)\n",
        "\n",
        "for epoch in range(num_epochs):\n",
        "    for i, (images, labels) in enumerate(train_loader):\n",
        "        images = images.view(-1, 180*180).to(device)\n",
        "        labels = labels.to(device)\n",
        "\n",
        "        optimizer.zero_grad()\n",
        "\n",
        "        outputs = model(images)\n",
        "\n",
        "        loss = criterion(outputs, labels)\n",
        "        loss_list.append(loss)\n",
        "\n",
        "        loss.backward()\n",
        "\n",
        "        optimizer.step()\n",
        "\n",
        "        iter += 1\n",
        "        iter_list.append(iter)\n",
        "\n",
        "        if iter % 500 == 0:       \n",
        "            correct = 0\n",
        "            total = 0\n",
        "            for images, labels in test_loader:\n",
        "                images = images.view(-1, 180*180).to(device)\n",
        "                outputs = model(images)\n",
        "                _, predicted = torch.max(outputs, 1)\n",
        "                total += labels.size(0)\n",
        "\n",
        "                if torch.cuda.is_available():\n",
        "                    correct += (predicted.cpu() == labels.cpu()).sum() \n",
        "                else:\n",
        "                    correct += (predicted == labels).sum()\n",
        "\n",
        "            accuracy = 100 * correct.item() / total\n",
        "            print('Iteration: {}. Loss: {}. Accuracy: {}'.format(iter, loss.item(), accuracy))"
      ],
      "execution_count": null,
      "outputs": []
    },
    {
      "cell_type": "markdown",
      "metadata": {
        "id": "222e7320"
      },
      "source": [
        "## **2nd Attempt**"
      ]
    },
    {
      "cell_type": "markdown",
      "metadata": {
        "id": "QqnPjX2oqGRC"
      },
      "source": [
        "### **DNN Model**"
      ]
    },
    {
      "cell_type": "code",
      "metadata": {
        "id": "qxXGW47nqGRJ"
      },
      "source": [
        "class DeepNeuralNetworkModel(nn.Module):\n",
        "    def __init__(self, input_size, num_classes, num_hidden):\n",
        "        super().__init__()\n",
        "\n",
        "        self.linear_1 = nn.Linear(input_size, num_hidden)\n",
        "        self.relu_1 = nn.ReLU()\n",
        "\n",
        "        self.linear_2 = nn.Linear(num_hidden, num_hidden)\n",
        "        self.relu_2 = nn.ReLU()\n",
        "\n",
        "        self.linear_3 = nn.Linear(num_hidden, num_hidden)\n",
        "        self.relu_3 = nn.ReLU()\n",
        "\n",
        "        self.linear_4 = nn.Linear(num_hidden, num_hidden)\n",
        "        self.relu_4 = nn.ReLU()\n",
        "\n",
        "        self.linear_5 = nn.Linear(num_hidden, num_hidden)\n",
        "        self.relu_5 = nn.ReLU()\n",
        "\n",
        "        self.linear_6 = nn.Linear(num_hidden, num_hidden)\n",
        "        self.relu_6 = nn.ReLU()\n",
        "\n",
        "        self.linear_out = nn.Linear(num_hidden, num_classes)\n",
        "\n",
        "    def forward(self, x):\n",
        "        out  = self.linear_1(x)\n",
        "        out = self.relu_1(out)\n",
        "        \n",
        "        out  = self.linear_2(out)\n",
        "        out = self.relu_2(out)\n",
        "\n",
        "        out  = self.linear_3(out)\n",
        "        out = self.relu_3(out)\n",
        "\n",
        "        out  = self.linear_4(out)\n",
        "        out = self.relu_4(out)\n",
        "\n",
        "        out  = self.linear_5(out)\n",
        "        out = self.relu_5(out)\n",
        "\n",
        "        out  = self.linear_6(out)\n",
        "        out = self.relu_6(out)\n",
        "        \n",
        "        probas = self.linear_out(out)\n",
        "        return probas"
      ],
      "execution_count": null,
      "outputs": []
    },
    {
      "cell_type": "markdown",
      "metadata": {
        "id": "n_VonzFwqM_A"
      },
      "source": [
        "### **Model Training**"
      ]
    },
    {
      "cell_type": "code",
      "metadata": {
        "colab": {
          "base_uri": "https://localhost:8080/"
        },
        "id": "044f4236",
        "outputId": "ea045875-1644-4cc8-f9a5-f82db862b37a"
      },
      "source": [
        "batch_size = 128\n",
        "num_iters = 30000\n",
        "input_dim = 180*180\n",
        "num_hidden = 200\n",
        "output_dim = 10\n",
        "learning_rate = 0.05\n",
        "# num_hidden_layers = 6\n",
        "\n",
        "device = torch.device(\"cuda:0\" if torch.cuda.is_available() else \"cpu\")\n",
        "print(device)\n",
        "\n",
        "mean = 0.5\n",
        "std = 0.5\n",
        "custom_transform = transforms.Compose([transforms.Resize(180), transforms.ToTensor(), transforms.Normalize(mean, std)])\n",
        "dataset = DigitDataset(csv_file = '/content/gdrive/MyDrive/Colab Notebooks/SCLab/Assignment2/training_set.csv',\n",
        "                       root_dir = '/content/gdrive/MyDrive/Colab Notebooks/SCLab/Assignment2/training-a',\n",
        "                       transform = custom_transform)\n",
        "\n",
        "dataset_len = len(dataset)\n",
        "train_len = int(dataset_len * 0.8)\n",
        "test_len = dataset_len - train_len\n",
        "train_set, test_set = data.random_split(dataset, [train_len, test_len])\n",
        "\n",
        "num_epochs = num_iters / (len(train_set) / batch_size)\n",
        "num_epochs = int(num_epochs)\n",
        "\n",
        "train_loader = DataLoader(dataset = train_set, batch_size = batch_size, shuffle = True)\n",
        "test_loader = DataLoader(dataset = test_set, batch_size = batch_size, shuffle = False)\n",
        "\n",
        "print('Train loader: ', len(train_loader))\n",
        "print('Test loader: ', len(test_loader))\n",
        "print('Per image size: ', train_set[0][0].numpy().shape)\n",
        "print('Sample label: 1st image: ', train_set[0][1])"
      ],
      "execution_count": null,
      "outputs": [
        {
          "name": "stdout",
          "output_type": "stream",
          "text": [
            "cuda:0\n",
            "Train loader:  124\n",
            "Test loader:  31\n",
            "Per image size:  (1, 180, 180)\n",
            "Sample label: 1st image:  tensor(5)\n"
          ]
        }
      ]
    },
    {
      "cell_type": "code",
      "metadata": {
        "id": "73befa95"
      },
      "source": [
        "iter = 0\n",
        "iter_list = []\n",
        "loss_list = []\n",
        "\n",
        "model = DeepNeuralNetworkModel(input_size = input_dim, num_classes = output_dim, num_hidden = num_hidden)\n",
        "model.to(device)\n",
        "\n",
        "criterion = nn.CrossEntropyLoss()\n",
        "optimizer = torch.optim.SGD(model.parameters(), lr = learning_rate)\n",
        "\n",
        "for epoch in range(num_epochs):\n",
        "    for i, (images, labels) in enumerate(train_loader):\n",
        "        images = images.view(-1, 180*180).to(device)\n",
        "        labels = labels.to(device)\n",
        "\n",
        "        optimizer.zero_grad()\n",
        "\n",
        "        outputs = model(images)\n",
        "\n",
        "        loss = criterion(outputs, labels)\n",
        "        loss_list.append(loss)\n",
        "\n",
        "        loss.backward()\n",
        "\n",
        "        optimizer.step()\n",
        "\n",
        "        iter += 1\n",
        "        iter_list.append(iter)\n",
        "\n",
        "        if iter % 500 == 0:       \n",
        "            correct = 0\n",
        "            total = 0\n",
        "            for images, labels in test_loader:\n",
        "                images = images.view(-1, 180*180).to(device)\n",
        "                outputs = model(images)\n",
        "                _, predicted = torch.max(outputs, 1)\n",
        "                total += labels.size(0)\n",
        "\n",
        "                if torch.cuda.is_available():\n",
        "                    correct += (predicted.cpu() == labels.cpu()).sum() \n",
        "                else:\n",
        "                    correct += (predicted == labels).sum()\n",
        "\n",
        "            accuracy = 100 * correct.item() / total\n",
        "            print('Iteration: {}. Loss: {}. Accuracy: {}'.format(iter, loss.item(), accuracy))"
      ],
      "execution_count": null,
      "outputs": []
    },
    {
      "cell_type": "markdown",
      "metadata": {
        "id": "a51738a9"
      },
      "source": [
        "## **3rd Attempt**"
      ]
    },
    {
      "cell_type": "markdown",
      "metadata": {
        "id": "a0Z6Z9GirWn8"
      },
      "source": [
        "### **DNN Model**"
      ]
    },
    {
      "cell_type": "code",
      "metadata": {
        "id": "DOBAkCZirWn8"
      },
      "source": [
        "class DeepNeuralNetworkModel(nn.Module):\n",
        "    def __init__(self, input_size, num_classes, num_hidden):\n",
        "        super().__init__()\n",
        "\n",
        "        self.linear_1 = nn.Linear(input_size, num_hidden)\n",
        "        self.relu_1 = nn.ReLU()\n",
        "\n",
        "        self.linear_2 = nn.Linear(num_hidden, num_hidden)\n",
        "        self.relu_2 = nn.ReLU()\n",
        "\n",
        "        self.linear_3 = nn.Linear(num_hidden, num_hidden)\n",
        "        self.relu_3 = nn.ReLU()\n",
        "\n",
        "        self.linear_4 = nn.Linear(num_hidden, num_hidden)\n",
        "        self.relu_4 = nn.ReLU()\n",
        "\n",
        "        self.linear_5 = nn.Linear(num_hidden, num_hidden)\n",
        "        self.relu_5 = nn.ReLU()\n",
        "\n",
        "        self.linear_6 = nn.Linear(num_hidden, num_hidden)\n",
        "        self.relu_6 = nn.ReLU()\n",
        "\n",
        "        self.linear_out = nn.Linear(num_hidden, num_classes)\n",
        "\n",
        "    def forward(self, x):\n",
        "        out  = self.linear_1(x)\n",
        "        out = self.relu_1(out)\n",
        "        \n",
        "        out  = self.linear_2(out)\n",
        "        out = self.relu_2(out)\n",
        "\n",
        "        out  = self.linear_3(out)\n",
        "        out = self.relu_3(out)\n",
        "\n",
        "        out  = self.linear_4(out)\n",
        "        out = self.relu_4(out)\n",
        "\n",
        "        out  = self.linear_5(out)\n",
        "        out = self.relu_5(out)\n",
        "\n",
        "        out  = self.linear_6(out)\n",
        "        out = self.relu_6(out)\n",
        "        \n",
        "        probas = self.linear_out(out)\n",
        "        return probas"
      ],
      "execution_count": null,
      "outputs": []
    },
    {
      "cell_type": "markdown",
      "metadata": {
        "id": "L_klS09LrWn8"
      },
      "source": [
        "### **Model Training**"
      ]
    },
    {
      "cell_type": "code",
      "metadata": {
        "colab": {
          "base_uri": "https://localhost:8080/"
        },
        "id": "rZWbqvGqrWn8",
        "outputId": "ef9053b5-7789-4185-f6e6-a5940660f319"
      },
      "source": [
        "batch_size = 128\n",
        "num_iters = 55000\n",
        "input_dim = 180*180\n",
        "num_hidden = 200\n",
        "output_dim = 10\n",
        "learning_rate = 0.06\n",
        "# num_hidden_layers = 6\n",
        "\n",
        "device = torch.device(\"cuda:0\" if torch.cuda.is_available() else \"cpu\")\n",
        "print(device)\n",
        "\n",
        "mean = 0.5\n",
        "std = 0.5\n",
        "custom_transform = transforms.Compose([transforms.Resize(180), transforms.ToTensor(), transforms.Normalize(mean, std)])\n",
        "dataset = DigitDataset(csv_file = '/content/gdrive/MyDrive/Colab Notebooks/SCLab/Assignment2/training_set.csv',\n",
        "                       root_dir = '/content/gdrive/MyDrive/Colab Notebooks/SCLab/Assignment2/training-a',\n",
        "                       transform = custom_transform)\n",
        "\n",
        "dataset_len = len(dataset)\n",
        "train_len = int(dataset_len * 0.8)\n",
        "test_len = dataset_len - train_len\n",
        "train_set, test_set = data.random_split(dataset, [train_len, test_len])\n",
        "\n",
        "num_epochs = num_iters / (len(train_set) / batch_size)\n",
        "num_epochs = int(num_epochs)\n",
        "\n",
        "train_loader = DataLoader(dataset = train_set, batch_size = batch_size, shuffle = True)\n",
        "test_loader = DataLoader(dataset = test_set, batch_size = batch_size, shuffle = False)\n",
        "\n",
        "print('Train loader: ', len(train_loader))\n",
        "print('Test loader: ', len(test_loader))\n",
        "print('Per image size: ', train_set[0][0].numpy().shape)\n",
        "print('Sample label: 1st image: ', train_set[0][1])"
      ],
      "execution_count": null,
      "outputs": [
        {
          "name": "stdout",
          "output_type": "stream",
          "text": [
            "cuda:0\n",
            "Train loader:  124\n",
            "Test loader:  31\n",
            "Per image size:  (1, 180, 180)\n",
            "Sample label: 1st image:  tensor(5)\n"
          ]
        }
      ]
    },
    {
      "cell_type": "code",
      "metadata": {
        "id": "cfb51391",
        "scrolled": false,
        "outputId": "fc2efc9e-1499-4f67-c9e3-9802416506aa"
      },
      "source": [
        "iter = 0\n",
        "iter_list = []\n",
        "loss_list = []\n",
        "\n",
        "model = DeepNeuralNetworkModel(input_size = input_dim, num_classes = output_dim, num_hidden = num_hidden)\n",
        "model.to(device)\n",
        "\n",
        "criterion = nn.CrossEntropyLoss()\n",
        "optimizer = torch.optim.SGD(model.parameters(), lr = learning_rate)\n",
        "\n",
        "for epoch in range(num_epochs):\n",
        "    for i, (images, labels) in enumerate(train_loader):\n",
        "        images = images.view(-1, 180*180).to(device)\n",
        "        labels = labels.to(device)\n",
        "\n",
        "        optimizer.zero_grad()\n",
        "\n",
        "        outputs = model(images)\n",
        "\n",
        "        loss = criterion(outputs, labels)\n",
        "        loss_list.append(loss)\n",
        "\n",
        "        loss.backward()\n",
        "\n",
        "        optimizer.step()\n",
        "\n",
        "        iter += 1\n",
        "        iter_list.append(iter)\n",
        "\n",
        "        if iter % 500 == 0:       \n",
        "            correct = 0\n",
        "            total = 0\n",
        "            for images, labels in test_loader:\n",
        "                images = images.view(-1, 180*180).to(device)\n",
        "                outputs = model(images)\n",
        "                _, predicted = torch.max(outputs, 1)\n",
        "                total += labels.size(0)\n",
        "\n",
        "                if torch.cuda.is_available():\n",
        "                    correct += (predicted.cpu() == labels.cpu()).sum() \n",
        "                else:\n",
        "                    correct += (predicted == labels).sum()\n",
        "\n",
        "            accuracy = 100 * correct.item() / total\n",
        "            print('Iteration: {}. Loss: {}. Accuracy: {}'.format(iter, loss.item(), accuracy))"
      ],
      "execution_count": null,
      "outputs": [
        {
          "name": "stdout",
          "output_type": "stream",
          "text": [
            "Iteration: 500. Loss: 2.299192190170288. Accuracy: 10.175082466379092\n",
            "Iteration: 1000. Loss: 2.2512331008911133. Accuracy: 14.8439482364882\n",
            "Iteration: 1500. Loss: 2.148746967315674. Accuracy: 20.502410555696525\n",
            "Iteration: 2000. Loss: 2.1476471424102783. Accuracy: 19.538188277087034\n",
            "Iteration: 2500. Loss: 2.1747748851776123. Accuracy: 18.32022329358031\n",
            "Iteration: 3000. Loss: 1.8908371925354004. Accuracy: 14.260340015224562\n",
            "Iteration: 3500. Loss: 1.999036192893982. Accuracy: 33.95077391524994\n",
            "Iteration: 4000. Loss: 2.179858446121216. Accuracy: 23.369703121035272\n",
            "Iteration: 4500. Loss: 1.8531984090805054. Accuracy: 31.51484394823649\n",
            "Iteration: 5000. Loss: 1.7889331579208374. Accuracy: 31.489469677746765\n",
            "Iteration: 5500. Loss: 1.7536343336105347. Accuracy: 41.309312357269725\n",
            "Iteration: 6000. Loss: 1.841538429260254. Accuracy: 24.99365643237757\n",
            "Iteration: 6500. Loss: 1.7651256322860718. Accuracy: 24.53691956356255\n",
            "Iteration: 7000. Loss: 2.0274102687835693. Accuracy: 35.244861710225834\n",
            "Iteration: 7500. Loss: 1.655866026878357. Accuracy: 50.799289520426285\n",
            "Iteration: 8000. Loss: 1.5470393896102905. Accuracy: 29.58639939101751\n",
            "Iteration: 8500. Loss: 1.4559245109558105. Accuracy: 56.53387465110378\n",
            "Iteration: 9000. Loss: 1.9703963994979858. Accuracy: 18.01573204770363\n",
            "Iteration: 9500. Loss: 1.5376263856887817. Accuracy: 58.33544785587414\n",
            "Iteration: 10000. Loss: 1.3382445573806763. Accuracy: 48.89621923369703\n",
            "Iteration: 10500. Loss: 1.014746904373169. Accuracy: 61.65947729002791\n",
            "Iteration: 11000. Loss: 1.2111432552337646. Accuracy: 63.689418929205786\n",
            "Iteration: 11500. Loss: 1.0597375631332397. Accuracy: 66.2014717076884\n",
            "Iteration: 12000. Loss: 1.534538745880127. Accuracy: 34.61050494798275\n",
            "Iteration: 12500. Loss: 0.8211458921432495. Accuracy: 68.40903324029433\n",
            "Iteration: 13000. Loss: 1.1067930459976196. Accuracy: 64.78051256026389\n",
            "Iteration: 13500. Loss: 0.8961133360862732. Accuracy: 70.69271758436945\n",
            "Iteration: 14000. Loss: 0.9779022932052612. Accuracy: 71.65693986297894\n",
            "Iteration: 14500. Loss: 1.4670847654342651. Accuracy: 52.9814767825425\n",
            "Iteration: 15000. Loss: 0.7186704277992249. Accuracy: 69.62699822380107\n",
            "Iteration: 15500. Loss: 0.36904406547546387. Accuracy: 67.26719106825679\n",
            "Iteration: 16000. Loss: 1.0691440105438232. Accuracy: 57.751839634610505\n",
            "Iteration: 16500. Loss: 0.3346198797225952. Accuracy: 80.41106318193351\n",
            "Iteration: 17000. Loss: 0.7003263831138611. Accuracy: 73.40776452676985\n",
            "Iteration: 17500. Loss: 0.42327824234962463. Accuracy: 81.78127378837858\n",
            "Iteration: 18000. Loss: 0.45956456661224365. Accuracy: 80.96929713270744\n",
            "Iteration: 18500. Loss: 0.7024296522140503. Accuracy: 78.25425019030703\n",
            "Iteration: 19000. Loss: 0.5055820941925049. Accuracy: 79.39609236234459\n",
            "Iteration: 19500. Loss: 0.2944660186767578. Accuracy: 84.62319208322761\n",
            "Iteration: 20000. Loss: 0.3135474920272827. Accuracy: 82.54250190307029\n",
            "Iteration: 20500. Loss: 0.7491632103919983. Accuracy: 76.42730271504695\n",
            "Iteration: 21000. Loss: 0.4682573080062866. Accuracy: 82.31413346866277\n",
            "Iteration: 21500. Loss: 0.4833085536956787. Accuracy: 81.27378837858411\n",
            "Iteration: 22000. Loss: 0.24904705584049225. Accuracy: 84.16645521441258\n",
            "Iteration: 22500. Loss: 0.25160932540893555. Accuracy: 81.9081451408272\n",
            "Iteration: 23000. Loss: 0.503150224685669. Accuracy: 81.09616848515606\n",
            "Iteration: 23500. Loss: 0.29222044348716736. Accuracy: 84.0649581324537\n",
            "Iteration: 24000. Loss: 0.35332179069519043. Accuracy: 81.09616848515606\n",
            "Iteration: 24500. Loss: 0.18212240934371948. Accuracy: 85.89190560771378\n",
            "Iteration: 25000. Loss: 0.47455087304115295. Accuracy: 77.2392793707181\n",
            "Iteration: 25500. Loss: 0.21545256674289703. Accuracy: 85.2575488454707\n",
            "Iteration: 26000. Loss: 1.336174488067627. Accuracy: 70.89571174828724\n",
            "Iteration: 26500. Loss: 0.163648322224617. Accuracy: 85.46054300938847\n",
            "Iteration: 27000. Loss: 0.13231131434440613. Accuracy: 82.87236741943669\n",
            "Iteration: 27500. Loss: 0.1417836844921112. Accuracy: 88.12484141080944\n",
            "Iteration: 28000. Loss: 0.09065303951501846. Accuracy: 88.42933265668611\n",
            "Iteration: 28500. Loss: 0.1749884933233261. Accuracy: 84.16645521441258\n",
            "Iteration: 29000. Loss: 1.9339284896850586. Accuracy: 60.84750063435676\n",
            "Iteration: 29500. Loss: 0.10885831713676453. Accuracy: 87.92184724689166\n",
            "Iteration: 30000. Loss: 0.8093568086624146. Accuracy: 71.30170007612281\n",
            "Iteration: 30500. Loss: 0.10538561642169952. Accuracy: 88.53082973864501\n",
            "Iteration: 31000. Loss: 0.0364338718354702. Accuracy: 87.41436183709719\n",
            "Iteration: 31500. Loss: 0.11550922691822052. Accuracy: 87.03374777975134\n",
            "Iteration: 32000. Loss: 0.6415027379989624. Accuracy: 81.34991119005329\n",
            "Iteration: 32500. Loss: 0.4514162838459015. Accuracy: 78.0005074854098\n",
            "Iteration: 33000. Loss: 0.9938580989837646. Accuracy: 69.85536665820858\n",
            "Iteration: 33500. Loss: 0.3242284953594208. Accuracy: 82.3395077391525\n",
            "Iteration: 34000. Loss: 0.05133112519979477. Accuracy: 89.19056077137782\n",
            "Iteration: 34500. Loss: 0.029735593125224113. Accuracy: 89.0636894189292\n",
            "Iteration: 35000. Loss: 0.005798088852316141. Accuracy: 89.54580055823395\n",
            "Iteration: 35500. Loss: 0.22744837403297424. Accuracy: 84.31870083735093\n",
            "Iteration: 36000. Loss: 0.03353248909115791. Accuracy: 89.08906368941894\n",
            "Iteration: 36500. Loss: 0.043548986315727234. Accuracy: 88.53082973864501\n",
            "Iteration: 37000. Loss: 0.06831540167331696. Accuracy: 88.50545546815529\n",
            "Iteration: 37500. Loss: 0.02695777826011181. Accuracy: 88.48008119766557\n",
            "Iteration: 38000. Loss: 0.2053171992301941. Accuracy: 82.82161887845724\n",
            "Iteration: 38500. Loss: 0.09201963245868683. Accuracy: 87.5412331895458\n",
            "Iteration: 39000. Loss: 0.0406937412917614. Accuracy: 87.9725957878711\n",
            "Iteration: 39500. Loss: 0.039831988513469696. Accuracy: 88.8353209845217\n",
            "Iteration: 40000. Loss: 0.037881720811128616. Accuracy: 87.51585891905607\n",
            "Iteration: 40500. Loss: 0.00676747178658843. Accuracy: 89.29205785333671\n",
            "Iteration: 41000. Loss: 0.02532314509153366. Accuracy: 88.45470692717585\n",
            "Iteration: 41500. Loss: 0.004038314335048199. Accuracy: 89.266683582847\n",
            "Iteration: 42000. Loss: 0.002491631777957082. Accuracy: 89.41892920578533\n",
            "Iteration: 42500. Loss: 0.0020516845397651196. Accuracy: 89.54580055823395\n",
            "Iteration: 43000. Loss: 0.0011721316259354353. Accuracy: 89.59654909921339\n",
            "Iteration: 43500. Loss: 0.0006481464952230453. Accuracy: 89.49505201725451\n",
            "Iteration: 44000. Loss: 0.000726840109564364. Accuracy: 89.59654909921339\n",
            "Iteration: 44500. Loss: 0.00043392463703639805. Accuracy: 89.54580055823395\n",
            "Iteration: 45000. Loss: 0.0006441991426981986. Accuracy: 89.62192336970313\n",
            "Iteration: 45500. Loss: 0.00013214988575782627. Accuracy: 89.67267191068257\n",
            "Iteration: 46000. Loss: 0.00024305940314661711. Accuracy: 89.59654909921339\n",
            "Iteration: 46500. Loss: 5.296923336572945e-05. Accuracy: 89.52042628774423\n",
            "Iteration: 47000. Loss: 0.0006211055442690849. Accuracy: 89.74879472215174\n",
            "Iteration: 47500. Loss: 0.00022516273020301014. Accuracy: 89.64729764019285\n",
            "Iteration: 48000. Loss: 0.00034150530700571835. Accuracy: 89.62192336970313\n",
            "Iteration: 48500. Loss: 9.475429396843538e-05. Accuracy: 89.67267191068257\n",
            "Iteration: 49000. Loss: 0.00020666935597546399. Accuracy: 89.59654909921339\n",
            "Iteration: 49500. Loss: 6.711566675221547e-05. Accuracy: 89.59654909921339\n",
            "Iteration: 50000. Loss: 0.00014757826284039766. Accuracy: 89.62192336970313\n",
            "Iteration: 50500. Loss: 0.0002576061524450779. Accuracy: 89.59654909921339\n",
            "Iteration: 51000. Loss: 0.00010667044261936098. Accuracy: 89.54580055823395\n",
            "Iteration: 51500. Loss: 6.195737660164014e-05. Accuracy: 89.64729764019285\n",
            "Iteration: 52000. Loss: 0.00016975637117866427. Accuracy: 89.59654909921339\n",
            "Iteration: 52500. Loss: 0.0001342829636996612. Accuracy: 89.57117482872367\n",
            "Iteration: 53000. Loss: 9.53604030655697e-05. Accuracy: 89.57117482872367\n",
            "Iteration: 53500. Loss: 0.0002770905557554215. Accuracy: 89.57117482872367\n",
            "Iteration: 54000. Loss: 0.00011511809134390205. Accuracy: 89.59654909921339\n",
            "Iteration: 54500. Loss: 0.00011865726264659315. Accuracy: 89.64729764019285\n",
            "Iteration: 55000. Loss: 8.38057603687048e-05. Accuracy: 89.57117482872367\n"
          ]
        }
      ]
    },
    {
      "cell_type": "markdown",
      "metadata": {
        "id": "JOtDeLVHsUQ-"
      },
      "source": [
        "### **Loss Curve**"
      ]
    },
    {
      "cell_type": "code",
      "metadata": {
        "id": "e1519f7c",
        "outputId": "7f31b304-bcbc-4113-8ca4-739c9f6a9e59"
      },
      "source": [
        "plt.plot(iter_list, loss_list)\n",
        "plt.ylabel('Loss')\n",
        "plt.xlabel('Iteration')\n",
        "plt.savefig('loss_ex2.png')\n",
        "plt.show()"
      ],
      "execution_count": null,
      "outputs": [
        {
          "data": {
            "image/png": "[encoded data removed]",
            "text/plain": [
              "<Figure size 640x480 with 1 Axes>"
            ]
          },
          "metadata": {},
          "output_type": "display_data"
        }
      ]
    },
    {
      "cell_type": "markdown",
      "metadata": {
        "id": "37b399c7"
      },
      "source": [
        "## **4th Attempt**"
      ]
    },
    {
      "cell_type": "markdown",
      "metadata": {
        "id": "zDl4tj1wtPBO"
      },
      "source": [
        "### **DNN Model**"
      ]
    },
    {
      "cell_type": "code",
      "metadata": {
        "id": "UuIXHfdbtPBP"
      },
      "source": [
        "class DeepNeuralNetworkModel(nn.Module):\n",
        "    def __init__(self, input_size, num_classes, num_hidden):\n",
        "        super().__init__()\n",
        "\n",
        "        self.linear_1 = nn.Linear(input_size, num_hidden)\n",
        "        self.relu_1 = nn.ReLU()\n",
        "\n",
        "        self.linear_2 = nn.Linear(num_hidden, num_hidden)\n",
        "        self.relu_2 = nn.ReLU()\n",
        "\n",
        "        self.linear_3 = nn.Linear(num_hidden, num_hidden)\n",
        "        self.relu_3 = nn.ReLU()\n",
        "\n",
        "        self.linear_4 = nn.Linear(num_hidden, num_hidden)\n",
        "        self.relu_4 = nn.ReLU()\n",
        "\n",
        "        self.linear_5 = nn.Linear(num_hidden, num_hidden)\n",
        "        self.relu_5 = nn.ReLU()\n",
        "\n",
        "        self.linear_6 = nn.Linear(num_hidden, num_hidden)\n",
        "        self.relu_6 = nn.ReLU()\n",
        "\n",
        "        self.linear_out = nn.Linear(num_hidden, num_classes)\n",
        "\n",
        "    def forward(self, x):\n",
        "        out  = self.linear_1(x)\n",
        "        out = self.relu_1(out)\n",
        "        \n",
        "        out  = self.linear_2(out)\n",
        "        out = self.relu_2(out)\n",
        "\n",
        "        out  = self.linear_3(out)\n",
        "        out = self.relu_3(out)\n",
        "\n",
        "        out  = self.linear_4(out)\n",
        "        out = self.relu_4(out)\n",
        "\n",
        "        out  = self.linear_5(out)\n",
        "        out = self.relu_5(out)\n",
        "\n",
        "        out  = self.linear_6(out)\n",
        "        out = self.relu_6(out)\n",
        "        \n",
        "        probas = self.linear_out(out)\n",
        "        return probas"
      ],
      "execution_count": null,
      "outputs": []
    },
    {
      "cell_type": "markdown",
      "metadata": {
        "id": "L1BZAvrwtPBP"
      },
      "source": [
        "### **Model Training**"
      ]
    },
    {
      "cell_type": "code",
      "metadata": {
        "colab": {
          "base_uri": "https://localhost:8080/"
        },
        "id": "jMkX4ISutPBP",
        "outputId": "e1e167c9-dab4-437d-a4cb-b37719edc0b0"
      },
      "source": [
        "batch_size = 128\n",
        "num_iters = 55000\n",
        "input_dim = 180*180\n",
        "num_hidden = 200\n",
        "output_dim = 10\n",
        "learning_rate = 0.06\n",
        "# num_hidden_layers = 6\n",
        "\n",
        "device = torch.device(\"cuda:0\" if torch.cuda.is_available() else \"cpu\")\n",
        "print(device)\n",
        "\n",
        "mean = 0.5\n",
        "std = 0.5\n",
        "custom_transform = transforms.Compose([transforms.Resize(180), transforms.ToTensor(), transforms.Normalize(mean, std)])\n",
        "dataset = DigitDataset(csv_file = '/content/gdrive/MyDrive/Colab Notebooks/SCLab/Assignment2/training_set.csv',\n",
        "                       root_dir = '/content/gdrive/MyDrive/Colab Notebooks/SCLab/Assignment2/training-a',\n",
        "                       transform = custom_transform)\n",
        "\n",
        "dataset_len = len(dataset)\n",
        "train_len = int(dataset_len * 0.8)\n",
        "test_len = dataset_len - train_len\n",
        "train_set, test_set = data.random_split(dataset, [train_len, test_len])\n",
        "\n",
        "num_epochs = num_iters / (len(train_set) / batch_size)\n",
        "num_epochs = int(num_epochs)\n",
        "\n",
        "train_loader = DataLoader(dataset = train_set, batch_size = batch_size, shuffle = True)\n",
        "test_loader = DataLoader(dataset = test_set, batch_size = batch_size, shuffle = False)\n",
        "\n",
        "print('Train loader: ', len(train_loader))\n",
        "print('Test loader: ', len(test_loader))\n",
        "print('Per image size: ', train_set[0][0].numpy().shape)\n",
        "print('Sample label: 1st image: ', train_set[0][1])"
      ],
      "execution_count": null,
      "outputs": [
        {
          "name": "stdout",
          "output_type": "stream",
          "text": [
            "cuda:0\n",
            "Train loader:  124\n",
            "Test loader:  31\n",
            "Per image size:  (1, 180, 180)\n",
            "Sample label: 1st image:  tensor(7)\n"
          ]
        }
      ]
    },
    {
      "cell_type": "code",
      "metadata": {
        "id": "B6n5Al7ttPBP"
      },
      "source": [
        "iter = 0\n",
        "iter_list = []\n",
        "loss_list = []\n",
        "\n",
        "model = DeepNeuralNetworkModel(input_size = input_dim, num_classes = output_dim, num_hidden = num_hidden)\n",
        "model.to(device)\n",
        "\n",
        "criterion = nn.CrossEntropyLoss()\n",
        "optimizer = torch.optim.Adagrad(model.parameters(), lr = learning_rate)\n",
        "\n",
        "for epoch in range(num_epochs):\n",
        "    for i, (images, labels) in enumerate(train_loader):\n",
        "        images = images.view(-1, 180*180).to(device)\n",
        "        labels = labels.to(device)\n",
        "\n",
        "        optimizer.zero_grad()\n",
        "\n",
        "        outputs = model(images)\n",
        "\n",
        "        loss = criterion(outputs, labels)\n",
        "        loss_list.append(loss)\n",
        "\n",
        "        loss.backward()\n",
        "\n",
        "        optimizer.step()\n",
        "\n",
        "        iter += 1\n",
        "        iter_list.append(iter)\n",
        "\n",
        "        if iter % 500 == 0:       \n",
        "            correct = 0\n",
        "            total = 0\n",
        "            for images, labels in test_loader:\n",
        "                images = images.view(-1, 180*180).to(device)\n",
        "                outputs = model(images)\n",
        "                _, predicted = torch.max(outputs, 1)\n",
        "                total += labels.size(0)\n",
        "\n",
        "                if torch.cuda.is_available():\n",
        "                    correct += (predicted.cpu() == labels.cpu()).sum() \n",
        "                else:\n",
        "                    correct += (predicted == labels).sum()\n",
        "\n",
        "            accuracy = 100 * correct.item() / total\n",
        "            print('Iteration: {}. Loss: {}. Accuracy: {}'.format(iter, loss.item(), accuracy))"
      ],
      "execution_count": null,
      "outputs": []
    },
    {
      "cell_type": "markdown",
      "metadata": {
        "id": "xZ9ymkw88HQN"
      },
      "source": [
        "# **Dataset 2**"
      ]
    },
    {
      "cell_type": "markdown",
      "metadata": {
        "id": "XkZlgu5gHdnC"
      },
      "source": [
        "## **Model Training**"
      ]
    },
    {
      "cell_type": "code",
      "metadata": {
        "colab": {
          "base_uri": "https://localhost:8080/",
          "height": 556,
          "referenced_widgets": [
            "6bd52cb96e224495b5d984914e70edd9",
            "19aa9ec6248543ec8f32bfedab5bfa4d",
            "94535eaf7d3a4f6289045132a3970cd9",
            "b0f5d5f1afff45f9b348077c652ee014",
            "d1814d7ec89e49778808c174e6b9eb55",
            "a2fbf818bac34d508dd1725a6f710459",
            "beb209823f454f3c92642a6c84a46fc4",
            "7280f99cf9ad43119135c81cfa458ec3",
            "19303e2ec42c4a14ac82661cb2b4a9bc",
            "f98dafb8c29f44e3ad216ae23b3c5081",
            "5b4447a5d1fe4309998f3329671d068f",
            "b5c3f57820d1484fa2dd27f801978672",
            "a50f89a5797142d9b0a56d2bb61663dc",
            "685a2a2d4eba45abbd84c86077d1fc10",
            "97968dc4836349d78e1bbe2f94aff7d8",
            "44edfd1cc0ac44a6871cca482b075d05",
            "fd43383f02c74e8ca87a22549f048967",
            "5e7bf314b7264e3e8fd14d1401b15701",
            "4b50e016310f43e3b715970f40c19568",
            "33ae547145044ac288c716fea1714b05",
            "8dcd4d8accbc46d6b56fa6bb44251db4",
            "7b8e49fbbab04a95a28b6edab964c6ac",
            "6663096d46164dc4bf34a4e160a7c88a",
            "66c1e58989cd43f4b447f5a5b266718b",
            "a80fcaa453f2419aad8a173357bb63ce",
            "3a66ff24fea24764bc3c4a733ced2654",
            "1009126458af480ea43b24fcdbe3b8fd",
            "65f8125c792445699595e5908a04c95e",
            "17a9df6ac62c446594a5eba2e8ad984b",
            "407721d876254738912cf679b7c94035",
            "9c97cf7da1a34e14a3595a34de43dd31",
            "ef0fa20ccb854fee86fb9ce4a4560d4e",
            "5c09579550ba41a5b73f3574e50dc709",
            "706df5f310c84aeb83f15caba5100932",
            "265e8bb86cb64f76a7e0291c445f7575",
            "f4336fa4f6814f15bb1df5209b4d58ba",
            "a61e2c2705894d02b7d95eb0e93048f7",
            "3c6bf89ec50e447b8e461ebf9741dc13",
            "096c61c978c545c6ac70a7a02a519e37",
            "f93898dd42b3410898860822129ca213",
            "b1da9f9ed5c44f73be9a53bdba538fc0",
            "8830c341064548b5a9e551f9b1d552c2",
            "8c7186faf56449fe947285a908aa7efc",
            "96943a68cc634008993ee7a5bf82d8b4"
          ]
        },
        "id": "xGQOFe_OSB-B",
        "outputId": "110e5bde-ba55-4edc-99d3-8bab5c9e9f49"
      },
      "source": [
        "batch_size = 128\n",
        "num_iters = 55000\n",
        "input_dim = 28*28\n",
        "num_hidden = 200\n",
        "output_dim = 10\n",
        "learning_rate = 0.06\n",
        "# num_hidden_layers = 6\n",
        "\n",
        "device = torch.device(\"cuda:0\" if torch.cuda.is_available() else \"cpu\")\n",
        "print(device)\n",
        "\n",
        "train_set = datasets.FashionMNIST(root = './data', train = True, transform = transforms.ToTensor(), download = True)\n",
        "test_set = datasets.FashionMNIST(root = './data', train = False, transform = transforms.ToTensor())\n",
        "\n",
        "num_epochs = num_iters / (len(train_set) / batch_size)\n",
        "num_epochs = int(num_epochs)\n",
        "\n",
        "train_loader = torch.utils.data.DataLoader(dataset = train_set, batch_size = batch_size, shuffle = True)\n",
        "test_loader = torch.utils.data.DataLoader(dataset = test_set, batch_size = batch_size, shuffle = False)\n",
        "\n",
        "print('Train loader: ', len(train_loader))\n",
        "print('Test loader: ', len(test_loader))\n",
        "print('Per image size: ', train_set[0][0].numpy().shape)\n",
        "print('Sample label: 1st image: ', train_set[0][1])"
      ],
      "execution_count": null,
      "outputs": [
        {
          "name": "stdout",
          "output_type": "stream",
          "text": [
            "cuda:0\n",
            "Train loader:  469\n",
            "Test loader:  79\n",
            "Per image size:  (1, 28, 28)\n",
            "Sample label: 1st image:  9\n"
          ]
        },
        {
          "name": "stderr",
          "output_type": "stream",
          "text": [
            "C:\\Users\\faisa\\Dev\\Tools\\anaconda3\\envs\\PyTorch190\\lib\\site-packages\\torchvision\\datasets\\mnist.py:498: UserWarning: The given NumPy array is not writeable, and PyTorch does not support non-writeable tensors. This means you can write to the underlying (supposedly non-writeable) NumPy array using the tensor. You may want to copy the array to protect its data or make it writeable before converting it to a tensor. This type of warning will be suppressed for the rest of this program. (Triggered internally at  ..\\torch\\csrc\\utils\\tensor_numpy.cpp:180.)\n",
            "  return torch.from_numpy(parsed.astype(m[2], copy=False)).view(*s)\n"
          ]
        }
      ]
    },
    {
      "cell_type": "code",
      "metadata": {
        "colab": {
          "base_uri": "https://localhost:8080/"
        },
        "id": "zDX2T2MIHdnD",
        "outputId": "304f533e-cedd-4236-c2a1-ce4d4b3b6def"
      },
      "source": [
        "iter = 0\n",
        "iter_list = []\n",
        "loss_list = []\n",
        "\n",
        "model = DeepNeuralNetworkModel(input_size = input_dim, num_classes = output_dim, num_hidden = num_hidden)\n",
        "model.to(device)\n",
        "\n",
        "criterion = nn.CrossEntropyLoss()\n",
        "optimizer = torch.optim.SGD(model.parameters(), lr = learning_rate)\n",
        "\n",
        "for epoch in range(num_epochs):\n",
        "    for i, (images, labels) in enumerate(train_loader):\n",
        "        images = images.view(-1, 28*28).to(device)\n",
        "        labels = labels.to(device)\n",
        "\n",
        "        optimizer.zero_grad()\n",
        "\n",
        "        outputs = model(images)\n",
        "\n",
        "        loss = criterion(outputs, labels)\n",
        "        loss_list.append(loss)\n",
        "\n",
        "        loss.backward()\n",
        "\n",
        "        optimizer.step()\n",
        "\n",
        "        iter += 1\n",
        "        iter_list.append(iter)\n",
        "\n",
        "        if iter % 500 == 0:       \n",
        "            correct = 0\n",
        "            total = 0\n",
        "            for images, labels in test_loader:\n",
        "                images = images.view(-1, 28*28).to(device)\n",
        "                outputs = model(images)\n",
        "                _, predicted = torch.max(outputs, 1)\n",
        "                total += labels.size(0)\n",
        "\n",
        "                if torch.cuda.is_available():\n",
        "                    correct += (predicted.cpu() == labels.cpu()).sum() \n",
        "                else:\n",
        "                    correct += (predicted == labels).sum()\n",
        "\n",
        "            accuracy = 100 * correct.item() / total\n",
        "            print('Iteration: {}. Loss: {}. Accuracy: {}'.format(iter, loss.item(), accuracy))"
      ],
      "execution_count": null,
      "outputs": [
        {
          "name": "stderr",
          "output_type": "stream",
          "text": [
            "C:\\Users\\faisa\\Dev\\Tools\\anaconda3\\envs\\PyTorch190\\lib\\site-packages\\torch\\cuda\\__init__.py:83: UserWarning: \n",
            "    Found GPU%d %s which is of cuda capability %d.%d.\n",
            "    PyTorch no longer supports this GPU because it is too old.\n",
            "    The minimum cuda capability supported by this library is %d.%d.\n",
            "    \n",
            "  warnings.warn(old_gpu_warn.format(d, name, major, minor, min_arch // 10, min_arch % 10))\n"
          ]
        },
        {
          "name": "stdout",
          "output_type": "stream",
          "text": [
            "Iteration: 500. Loss: 2.08339786529541. Accuracy: 28.92\n",
            "Iteration: 1000. Loss: 0.706753134727478. Accuracy: 65.96\n",
            "Iteration: 1500. Loss: 0.8534146547317505. Accuracy: 72.21\n",
            "Iteration: 2000. Loss: 0.5467010140419006. Accuracy: 77.32\n",
            "Iteration: 2500. Loss: 0.5233997106552124. Accuracy: 78.52\n",
            "Iteration: 3000. Loss: 0.457288533449173. Accuracy: 80.35\n",
            "Iteration: 3500. Loss: 0.35655543208122253. Accuracy: 83.21\n",
            "Iteration: 4000. Loss: 0.326790452003479. Accuracy: 85.13\n",
            "Iteration: 4500. Loss: 0.338297575712204. Accuracy: 85.06\n",
            "Iteration: 5000. Loss: 0.35065141320228577. Accuracy: 85.03\n",
            "Iteration: 5500. Loss: 0.406953364610672. Accuracy: 86.6\n",
            "Iteration: 6000. Loss: 0.32879137992858887. Accuracy: 86.47\n",
            "Iteration: 6500. Loss: 0.2508682608604431. Accuracy: 87.26\n",
            "Iteration: 7000. Loss: 0.2871995270252228. Accuracy: 86.54\n",
            "Iteration: 7500. Loss: 0.2989155352115631. Accuracy: 86.8\n",
            "Iteration: 8000. Loss: 0.2504273056983948. Accuracy: 87.37\n",
            "Iteration: 8500. Loss: 0.23037518560886383. Accuracy: 87.6\n",
            "Iteration: 9000. Loss: 0.21861344575881958. Accuracy: 87.97\n",
            "Iteration: 9500. Loss: 0.23170630633831024. Accuracy: 88.28\n",
            "Iteration: 10000. Loss: 0.24476085603237152. Accuracy: 87.98\n",
            "Iteration: 10500. Loss: 0.15909796953201294. Accuracy: 87.75\n",
            "Iteration: 11000. Loss: 0.20466795563697815. Accuracy: 88.51\n",
            "Iteration: 11500. Loss: 0.3078618347644806. Accuracy: 87.95\n",
            "Iteration: 12000. Loss: 0.2988204061985016. Accuracy: 87.33\n",
            "Iteration: 12500. Loss: 0.18723317980766296. Accuracy: 88.26\n",
            "Iteration: 13000. Loss: 0.19886134564876556. Accuracy: 88.14\n",
            "Iteration: 13500. Loss: 0.17129956185817719. Accuracy: 88.04\n",
            "Iteration: 14000. Loss: 0.26247769594192505. Accuracy: 87.41\n",
            "Iteration: 14500. Loss: 0.2701348662376404. Accuracy: 88.83\n",
            "Iteration: 15000. Loss: 0.18096405267715454. Accuracy: 88.17\n",
            "Iteration: 15500. Loss: 0.23853525519371033. Accuracy: 88.62\n",
            "Iteration: 16000. Loss: 0.23393946886062622. Accuracy: 88.17\n",
            "Iteration: 16500. Loss: 0.169014111161232. Accuracy: 88.45\n",
            "Iteration: 17000. Loss: 0.1661553978919983. Accuracy: 88.55\n",
            "Iteration: 17500. Loss: 0.07105964422225952. Accuracy: 88.05\n",
            "Iteration: 18000. Loss: 0.23141199350357056. Accuracy: 88.88\n",
            "Iteration: 18500. Loss: 0.19878791272640228. Accuracy: 86.76\n",
            "Iteration: 19000. Loss: 0.19189083576202393. Accuracy: 88.23\n",
            "Iteration: 19500. Loss: 0.12673602998256683. Accuracy: 88.67\n",
            "Iteration: 20000. Loss: 0.16512158513069153. Accuracy: 88.86\n",
            "Iteration: 20500. Loss: 0.2199220061302185. Accuracy: 87.94\n",
            "Iteration: 21000. Loss: 0.13706141710281372. Accuracy: 88.62\n",
            "Iteration: 21500. Loss: 0.12376194447278976. Accuracy: 88.93\n",
            "Iteration: 22000. Loss: 0.1503465324640274. Accuracy: 88.58\n",
            "Iteration: 22500. Loss: 0.20430836081504822. Accuracy: 88.37\n",
            "Iteration: 23000. Loss: 0.13256828486919403. Accuracy: 89.47\n",
            "Iteration: 23500. Loss: 0.16317619383335114. Accuracy: 87.91\n",
            "Iteration: 24000. Loss: 0.08800521492958069. Accuracy: 89.17\n",
            "Iteration: 24500. Loss: 0.1516420990228653. Accuracy: 88.88\n",
            "Iteration: 25000. Loss: 0.1598816215991974. Accuracy: 88.93\n",
            "Iteration: 25500. Loss: 0.09154598414897919. Accuracy: 88.82\n",
            "Iteration: 26000. Loss: 0.10297922044992447. Accuracy: 89.2\n",
            "Iteration: 26500. Loss: 1.1421159505844116. Accuracy: 62.77\n",
            "Iteration: 27000. Loss: 0.1898041069507599. Accuracy: 87.26\n",
            "Iteration: 27500. Loss: 0.15388375520706177. Accuracy: 88.72\n",
            "Iteration: 28000. Loss: 0.06903045624494553. Accuracy: 88.92\n",
            "Iteration: 28500. Loss: 0.12682244181632996. Accuracy: 88.83\n",
            "Iteration: 29000. Loss: 0.10131916403770447. Accuracy: 88.77\n",
            "Iteration: 29500. Loss: 0.11440378427505493. Accuracy: 88.67\n",
            "Iteration: 30000. Loss: 0.15846844017505646. Accuracy: 88.76\n",
            "Iteration: 30500. Loss: 0.11493314802646637. Accuracy: 88.8\n",
            "Iteration: 31000. Loss: 0.06722123920917511. Accuracy: 89.07\n",
            "Iteration: 31500. Loss: 0.08356748521327972. Accuracy: 88.5\n",
            "Iteration: 32000. Loss: 0.14730197191238403. Accuracy: 87.49\n",
            "Iteration: 32500. Loss: 0.0746079683303833. Accuracy: 88.97\n",
            "Iteration: 33000. Loss: 0.15074387192726135. Accuracy: 88.43\n",
            "Iteration: 33500. Loss: 0.08066532015800476. Accuracy: 88.75\n",
            "Iteration: 34000. Loss: 0.14962953329086304. Accuracy: 88.93\n",
            "Iteration: 34500. Loss: 0.09235333651304245. Accuracy: 89.36\n",
            "Iteration: 35000. Loss: 0.14803647994995117. Accuracy: 85.19\n",
            "Iteration: 35500. Loss: 0.1328056901693344. Accuracy: 89.36\n",
            "Iteration: 36000. Loss: 0.14904938638210297. Accuracy: 88.89\n",
            "Iteration: 36500. Loss: 0.04387623444199562. Accuracy: 89.22\n",
            "Iteration: 37000. Loss: 0.09386366605758667. Accuracy: 88.76\n",
            "Iteration: 37500. Loss: 0.06994398683309555. Accuracy: 89.06\n",
            "Iteration: 38000. Loss: 0.07479069381952286. Accuracy: 88.91\n",
            "Iteration: 38500. Loss: 0.03769678622484207. Accuracy: 89.02\n",
            "Iteration: 39000. Loss: 0.07374697923660278. Accuracy: 89.46\n",
            "Iteration: 39500. Loss: 0.08583764731884003. Accuracy: 88.81\n",
            "Iteration: 40000. Loss: 0.14361901581287384. Accuracy: 88.82\n",
            "Iteration: 40500. Loss: 0.09110415726900101. Accuracy: 88.95\n",
            "Iteration: 41000. Loss: 0.07884707301855087. Accuracy: 88.79\n",
            "Iteration: 41500. Loss: 0.06485729664564133. Accuracy: 88.99\n",
            "Iteration: 42000. Loss: 0.09075488150119781. Accuracy: 87.98\n",
            "Iteration: 42500. Loss: 0.08410505950450897. Accuracy: 89.48\n",
            "Iteration: 43000. Loss: 0.07009979337453842. Accuracy: 88.74\n",
            "Iteration: 43500. Loss: 0.09378077834844589. Accuracy: 88.0\n",
            "Iteration: 44000. Loss: 0.07125138491392136. Accuracy: 89.08\n",
            "Iteration: 44500. Loss: 0.03440478816628456. Accuracy: 89.17\n",
            "Iteration: 45000. Loss: 0.2162410318851471. Accuracy: 87.84\n",
            "Iteration: 45500. Loss: 0.03999129682779312. Accuracy: 88.91\n",
            "Iteration: 46000. Loss: 0.06181228905916214. Accuracy: 89.13\n",
            "Iteration: 46500. Loss: 0.09261735528707504. Accuracy: 88.64\n",
            "Iteration: 47000. Loss: 0.02670108899474144. Accuracy: 89.35\n",
            "Iteration: 47500. Loss: 0.034405067563056946. Accuracy: 89.38\n",
            "Iteration: 48000. Loss: 0.04631990194320679. Accuracy: 89.01\n",
            "Iteration: 48500. Loss: 0.04015548899769783. Accuracy: 89.33\n",
            "Iteration: 49000. Loss: 0.03257713466882706. Accuracy: 88.75\n",
            "Iteration: 49500. Loss: 0.07685710489749908. Accuracy: 89.17\n",
            "Iteration: 50000. Loss: 0.04060542210936546. Accuracy: 89.28\n",
            "Iteration: 50500. Loss: 0.17155107855796814. Accuracy: 88.84\n",
            "Iteration: 51000. Loss: 0.04709503427147865. Accuracy: 89.27\n",
            "Iteration: 51500. Loss: 0.025458479300141335. Accuracy: 89.21\n",
            "Iteration: 52000. Loss: 0.030353212729096413. Accuracy: 89.4\n",
            "Iteration: 52500. Loss: 0.04046856239438057. Accuracy: 89.12\n",
            "Iteration: 53000. Loss: 0.03508143499493599. Accuracy: 88.98\n",
            "Iteration: 53500. Loss: 0.06559005379676819. Accuracy: 88.76\n",
            "Iteration: 54000. Loss: 0.058176230639219284. Accuracy: 88.61\n",
            "Iteration: 54500. Loss: 0.035543639212846756. Accuracy: 89.42\n"
          ]
        }
      ]
    },
    {
      "cell_type": "markdown",
      "metadata": {
        "id": "PrZxuQMFHdnD"
      },
      "source": [
        "### **Save Model**"
      ]
    },
    {
      "cell_type": "code",
      "metadata": {
        "id": "4cz0h7C_HdnD"
      },
      "source": [
        "root_path = '/content/gdrive/MyDrive/Colab Notebooks/SCLab/Assignment2/'\n",
        "save_model = True\n",
        "\n",
        "if save_model is True:\n",
        "    torch.save(model.state_dict(), root_path + 'digit_classifier_dnn_exp1_1.pkl') "
      ],
      "execution_count": null,
      "outputs": []
    },
    {
      "cell_type": "markdown",
      "metadata": {
        "id": "eakBeUMDHdnD"
      },
      "source": [
        "### **Load Model**"
      ]
    },
    {
      "cell_type": "code",
      "metadata": {
        "id": "61i7jTf3HdnD"
      },
      "source": [
        "load_model = True\n",
        "\n",
        "if load_model is True:\n",
        "    model.load_state_dict(torch.load(root_path + 'digit_classifier_dnn_exp1_1.pkl'))"
      ],
      "execution_count": null,
      "outputs": []
    },
    {
      "cell_type": "markdown",
      "metadata": {
        "id": "xdvrtDcvHdnD"
      },
      "source": [
        "## **Loss Curve**"
      ]
    },
    {
      "cell_type": "code",
      "metadata": {
        "colab": {
          "base_uri": "https://localhost:8080/",
          "height": 279
        },
        "id": "IGl6OjxkHdnD",
        "outputId": "2b18db8c-8783-46a8-8a07-443541b5d461"
      },
      "source": [
        "perf = []\n",
        "for i in range(len(iter_list)):\n",
        "    perf.append([iter_list[i], loss_list[i].item()])\n",
        "perf\n",
        "plt.plot([i[0] for i in perf], [i[1] for i in perf])\n",
        "plt.ylabel('Loss')\n",
        "plt.xlabel('Iteration')\n",
        "plt.savefig('loss_ex1_1.png')\n",
        "plt.show()"
      ],
      "execution_count": null,
      "outputs": [
        {
          "data": {
            "image/png": "[encoded data removed]",
            "text/plain": [
              "<Figure size 432x288 with 1 Axes>"
            ]
          },
          "metadata": {
            "needs_background": "light"
          },
          "output_type": "display_data"
        }
      ]
    },
    {
      "cell_type": "code",
      "metadata": {
        "id": "-7hMeMAJYoZ8"
      },
      "source": [
        ""
      ],
      "execution_count": null,
      "outputs": []
    }
  ]
}