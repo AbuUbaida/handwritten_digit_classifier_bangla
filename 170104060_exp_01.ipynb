{
  "nbformat": 4,
  "nbformat_minor": 5,
  "metadata": {
    "colab": {
      "name": "170104060_exp_01.ipynb",
      "provenance": []
    },
    "kernelspec": {
      "display_name": "Python 3",
      "language": "python",
      "name": "python3"
    },
    "language_info": {
      "codemirror_mode": {
        "name": "ipython",
        "version": 3
      },
      "file_extension": ".py",
      "mimetype": "text/x-python",
      "name": "python",
      "nbconvert_exporter": "python",
      "pygments_lexer": "ipython3",
      "version": "3.8.11"
    },
    "widgets": {
      "application/vnd.jupyter.widget-state+json": {
        "6bd52cb96e224495b5d984914e70edd9": {
          "model_module": "@jupyter-widgets/controls",
          "model_name": "HBoxModel",
          "model_module_version": "1.5.0",
          "state": {
            "_dom_classes": [],
            "_model_module": "@jupyter-widgets/controls",
            "_model_module_version": "1.5.0",
            "_model_name": "HBoxModel",
            "_view_count": null,
            "_view_module": "@jupyter-widgets/controls",
            "_view_module_version": "1.5.0",
            "_view_name": "HBoxView",
            "box_style": "",
            "children": [
              "IPY_MODEL_94535eaf7d3a4f6289045132a3970cd9",
              "IPY_MODEL_b0f5d5f1afff45f9b348077c652ee014",
              "IPY_MODEL_d1814d7ec89e49778808c174e6b9eb55"
            ],
            "layout": "IPY_MODEL_19aa9ec6248543ec8f32bfedab5bfa4d"
          }
        },
        "19aa9ec6248543ec8f32bfedab5bfa4d": {
          "model_module": "@jupyter-widgets/base",
          "model_name": "LayoutModel",
          "model_module_version": "1.2.0",
          "state": {
            "_model_module": "@jupyter-widgets/base",
            "_model_module_version": "1.2.0",
            "_model_name": "LayoutModel",
            "_view_count": null,
            "_view_module": "@jupyter-widgets/base",
            "_view_module_version": "1.2.0",
            "_view_name": "LayoutView",
            "align_content": null,
            "align_items": null,
            "align_self": null,
            "border": null,
            "bottom": null,
            "display": null,
            "flex": null,
            "flex_flow": null,
            "grid_area": null,
            "grid_auto_columns": null,
            "grid_auto_flow": null,
            "grid_auto_rows": null,
            "grid_column": null,
            "grid_gap": null,
            "grid_row": null,
            "grid_template_areas": null,
            "grid_template_columns": null,
            "grid_template_rows": null,
            "height": null,
            "justify_content": null,
            "justify_items": null,
            "left": null,
            "margin": null,
            "max_height": null,
            "max_width": null,
            "min_height": null,
            "min_width": null,
            "object_fit": null,
            "object_position": null,
            "order": null,
            "overflow": null,
            "overflow_x": null,
            "overflow_y": null,
            "padding": null,
            "right": null,
            "top": null,
            "visibility": null,
            "width": null
          }
        },
        "94535eaf7d3a4f6289045132a3970cd9": {
          "model_module": "@jupyter-widgets/controls",
          "model_name": "HTMLModel",
          "model_module_version": "1.5.0",
          "state": {
            "_dom_classes": [],
            "_model_module": "@jupyter-widgets/controls",
            "_model_module_version": "1.5.0",
            "_model_name": "HTMLModel",
            "_view_count": null,
            "_view_module": "@jupyter-widgets/controls",
            "_view_module_version": "1.5.0",
            "_view_name": "HTMLView",
            "description": "",
            "description_tooltip": null,
            "layout": "IPY_MODEL_beb209823f454f3c92642a6c84a46fc4",
            "placeholder": "​",
            "style": "IPY_MODEL_a2fbf818bac34d508dd1725a6f710459",
            "value": ""
          }
        },
        "b0f5d5f1afff45f9b348077c652ee014": {
          "model_module": "@jupyter-widgets/controls",
          "model_name": "FloatProgressModel",
          "model_module_version": "1.5.0",
          "state": {
            "_dom_classes": [],
            "_model_module": "@jupyter-widgets/controls",
            "_model_module_version": "1.5.0",
            "_model_name": "FloatProgressModel",
            "_view_count": null,
            "_view_module": "@jupyter-widgets/controls",
            "_view_module_version": "1.5.0",
            "_view_name": "ProgressView",
            "bar_style": "success",
            "description": "",
            "description_tooltip": null,
            "layout": "IPY_MODEL_19303e2ec42c4a14ac82661cb2b4a9bc",
            "max": 26421880,
            "min": 0,
            "orientation": "horizontal",
            "style": "IPY_MODEL_7280f99cf9ad43119135c81cfa458ec3",
            "value": 26421880
          }
        },
        "d1814d7ec89e49778808c174e6b9eb55": {
          "model_module": "@jupyter-widgets/controls",
          "model_name": "HTMLModel",
          "model_module_version": "1.5.0",
          "state": {
            "_dom_classes": [],
            "_model_module": "@jupyter-widgets/controls",
            "_model_module_version": "1.5.0",
            "_model_name": "HTMLModel",
            "_view_count": null,
            "_view_module": "@jupyter-widgets/controls",
            "_view_module_version": "1.5.0",
            "_view_name": "HTMLView",
            "description": "",
            "description_tooltip": null,
            "layout": "IPY_MODEL_5b4447a5d1fe4309998f3329671d068f",
            "placeholder": "​",
            "style": "IPY_MODEL_f98dafb8c29f44e3ad216ae23b3c5081",
            "value": " 26422272/? [00:00&lt;00:00, 88086925.11it/s]"
          }
        },
        "a2fbf818bac34d508dd1725a6f710459": {
          "model_module": "@jupyter-widgets/controls",
          "model_name": "DescriptionStyleModel",
          "model_module_version": "1.5.0",
          "state": {
            "_model_module": "@jupyter-widgets/controls",
            "_model_module_version": "1.5.0",
            "_model_name": "DescriptionStyleModel",
            "_view_count": null,
            "_view_module": "@jupyter-widgets/base",
            "_view_module_version": "1.2.0",
            "_view_name": "StyleView",
            "description_width": ""
          }
        },
        "beb209823f454f3c92642a6c84a46fc4": {
          "model_module": "@jupyter-widgets/base",
          "model_name": "LayoutModel",
          "model_module_version": "1.2.0",
          "state": {
            "_model_module": "@jupyter-widgets/base",
            "_model_module_version": "1.2.0",
            "_model_name": "LayoutModel",
            "_view_count": null,
            "_view_module": "@jupyter-widgets/base",
            "_view_module_version": "1.2.0",
            "_view_name": "LayoutView",
            "align_content": null,
            "align_items": null,
            "align_self": null,
            "border": null,
            "bottom": null,
            "display": null,
            "flex": null,
            "flex_flow": null,
            "grid_area": null,
            "grid_auto_columns": null,
            "grid_auto_flow": null,
            "grid_auto_rows": null,
            "grid_column": null,
            "grid_gap": null,
            "grid_row": null,
            "grid_template_areas": null,
            "grid_template_columns": null,
            "grid_template_rows": null,
            "height": null,
            "justify_content": null,
            "justify_items": null,
            "left": null,
            "margin": null,
            "max_height": null,
            "max_width": null,
            "min_height": null,
            "min_width": null,
            "object_fit": null,
            "object_position": null,
            "order": null,
            "overflow": null,
            "overflow_x": null,
            "overflow_y": null,
            "padding": null,
            "right": null,
            "top": null,
            "visibility": null,
            "width": null
          }
        },
        "7280f99cf9ad43119135c81cfa458ec3": {
          "model_module": "@jupyter-widgets/controls",
          "model_name": "ProgressStyleModel",
          "model_module_version": "1.5.0",
          "state": {
            "_model_module": "@jupyter-widgets/controls",
            "_model_module_version": "1.5.0",
            "_model_name": "ProgressStyleModel",
            "_view_count": null,
            "_view_module": "@jupyter-widgets/base",
            "_view_module_version": "1.2.0",
            "_view_name": "StyleView",
            "bar_color": null,
            "description_width": ""
          }
        },
        "19303e2ec42c4a14ac82661cb2b4a9bc": {
          "model_module": "@jupyter-widgets/base",
          "model_name": "LayoutModel",
          "model_module_version": "1.2.0",
          "state": {
            "_model_module": "@jupyter-widgets/base",
            "_model_module_version": "1.2.0",
            "_model_name": "LayoutModel",
            "_view_count": null,
            "_view_module": "@jupyter-widgets/base",
            "_view_module_version": "1.2.0",
            "_view_name": "LayoutView",
            "align_content": null,
            "align_items": null,
            "align_self": null,
            "border": null,
            "bottom": null,
            "display": null,
            "flex": null,
            "flex_flow": null,
            "grid_area": null,
            "grid_auto_columns": null,
            "grid_auto_flow": null,
            "grid_auto_rows": null,
            "grid_column": null,
            "grid_gap": null,
            "grid_row": null,
            "grid_template_areas": null,
            "grid_template_columns": null,
            "grid_template_rows": null,
            "height": null,
            "justify_content": null,
            "justify_items": null,
            "left": null,
            "margin": null,
            "max_height": null,
            "max_width": null,
            "min_height": null,
            "min_width": null,
            "object_fit": null,
            "object_position": null,
            "order": null,
            "overflow": null,
            "overflow_x": null,
            "overflow_y": null,
            "padding": null,
            "right": null,
            "top": null,
            "visibility": null,
            "width": null
          }
        },
        "f98dafb8c29f44e3ad216ae23b3c5081": {
          "model_module": "@jupyter-widgets/controls",
          "model_name": "DescriptionStyleModel",
          "model_module_version": "1.5.0",
          "state": {
            "_model_module": "@jupyter-widgets/controls",
            "_model_module_version": "1.5.0",
            "_model_name": "DescriptionStyleModel",
            "_view_count": null,
            "_view_module": "@jupyter-widgets/base",
            "_view_module_version": "1.2.0",
            "_view_name": "StyleView",
            "description_width": ""
          }
        },
        "5b4447a5d1fe4309998f3329671d068f": {
          "model_module": "@jupyter-widgets/base",
          "model_name": "LayoutModel",
          "model_module_version": "1.2.0",
          "state": {
            "_model_module": "@jupyter-widgets/base",
            "_model_module_version": "1.2.0",
            "_model_name": "LayoutModel",
            "_view_count": null,
            "_view_module": "@jupyter-widgets/base",
            "_view_module_version": "1.2.0",
            "_view_name": "LayoutView",
            "align_content": null,
            "align_items": null,
            "align_self": null,
            "border": null,
            "bottom": null,
            "display": null,
            "flex": null,
            "flex_flow": null,
            "grid_area": null,
            "grid_auto_columns": null,
            "grid_auto_flow": null,
            "grid_auto_rows": null,
            "grid_column": null,
            "grid_gap": null,
            "grid_row": null,
            "grid_template_areas": null,
            "grid_template_columns": null,
            "grid_template_rows": null,
            "height": null,
            "justify_content": null,
            "justify_items": null,
            "left": null,
            "margin": null,
            "max_height": null,
            "max_width": null,
            "min_height": null,
            "min_width": null,
            "object_fit": null,
            "object_position": null,
            "order": null,
            "overflow": null,
            "overflow_x": null,
            "overflow_y": null,
            "padding": null,
            "right": null,
            "top": null,
            "visibility": null,
            "width": null
          }
        },
        "b5c3f57820d1484fa2dd27f801978672": {
          "model_module": "@jupyter-widgets/controls",
          "model_name": "HBoxModel",
          "model_module_version": "1.5.0",
          "state": {
            "_dom_classes": [],
            "_model_module": "@jupyter-widgets/controls",
            "_model_module_version": "1.5.0",
            "_model_name": "HBoxModel",
            "_view_count": null,
            "_view_module": "@jupyter-widgets/controls",
            "_view_module_version": "1.5.0",
            "_view_name": "HBoxView",
            "box_style": "",
            "children": [
              "IPY_MODEL_685a2a2d4eba45abbd84c86077d1fc10",
              "IPY_MODEL_97968dc4836349d78e1bbe2f94aff7d8",
              "IPY_MODEL_44edfd1cc0ac44a6871cca482b075d05"
            ],
            "layout": "IPY_MODEL_a50f89a5797142d9b0a56d2bb61663dc"
          }
        },
        "a50f89a5797142d9b0a56d2bb61663dc": {
          "model_module": "@jupyter-widgets/base",
          "model_name": "LayoutModel",
          "model_module_version": "1.2.0",
          "state": {
            "_model_module": "@jupyter-widgets/base",
            "_model_module_version": "1.2.0",
            "_model_name": "LayoutModel",
            "_view_count": null,
            "_view_module": "@jupyter-widgets/base",
            "_view_module_version": "1.2.0",
            "_view_name": "LayoutView",
            "align_content": null,
            "align_items": null,
            "align_self": null,
            "border": null,
            "bottom": null,
            "display": null,
            "flex": null,
            "flex_flow": null,
            "grid_area": null,
            "grid_auto_columns": null,
            "grid_auto_flow": null,
            "grid_auto_rows": null,
            "grid_column": null,
            "grid_gap": null,
            "grid_row": null,
            "grid_template_areas": null,
            "grid_template_columns": null,
            "grid_template_rows": null,
            "height": null,
            "justify_content": null,
            "justify_items": null,
            "left": null,
            "margin": null,
            "max_height": null,
            "max_width": null,
            "min_height": null,
            "min_width": null,
            "object_fit": null,
            "object_position": null,
            "order": null,
            "overflow": null,
            "overflow_x": null,
            "overflow_y": null,
            "padding": null,
            "right": null,
            "top": null,
            "visibility": null,
            "width": null
          }
        },
        "685a2a2d4eba45abbd84c86077d1fc10": {
          "model_module": "@jupyter-widgets/controls",
          "model_name": "HTMLModel",
          "model_module_version": "1.5.0",
          "state": {
            "_dom_classes": [],
            "_model_module": "@jupyter-widgets/controls",
            "_model_module_version": "1.5.0",
            "_model_name": "HTMLModel",
            "_view_count": null,
            "_view_module": "@jupyter-widgets/controls",
            "_view_module_version": "1.5.0",
            "_view_name": "HTMLView",
            "description": "",
            "description_tooltip": null,
            "layout": "IPY_MODEL_5e7bf314b7264e3e8fd14d1401b15701",
            "placeholder": "​",
            "style": "IPY_MODEL_fd43383f02c74e8ca87a22549f048967",
            "value": ""
          }
        },
        "97968dc4836349d78e1bbe2f94aff7d8": {
          "model_module": "@jupyter-widgets/controls",
          "model_name": "FloatProgressModel",
          "model_module_version": "1.5.0",
          "state": {
            "_dom_classes": [],
            "_model_module": "@jupyter-widgets/controls",
            "_model_module_version": "1.5.0",
            "_model_name": "FloatProgressModel",
            "_view_count": null,
            "_view_module": "@jupyter-widgets/controls",
            "_view_module_version": "1.5.0",
            "_view_name": "ProgressView",
            "bar_style": "success",
            "description": "",
            "description_tooltip": null,
            "layout": "IPY_MODEL_33ae547145044ac288c716fea1714b05",
            "max": 29515,
            "min": 0,
            "orientation": "horizontal",
            "style": "IPY_MODEL_4b50e016310f43e3b715970f40c19568",
            "value": 29515
          }
        },
        "44edfd1cc0ac44a6871cca482b075d05": {
          "model_module": "@jupyter-widgets/controls",
          "model_name": "HTMLModel",
          "model_module_version": "1.5.0",
          "state": {
            "_dom_classes": [],
            "_model_module": "@jupyter-widgets/controls",
            "_model_module_version": "1.5.0",
            "_model_name": "HTMLModel",
            "_view_count": null,
            "_view_module": "@jupyter-widgets/controls",
            "_view_module_version": "1.5.0",
            "_view_name": "HTMLView",
            "description": "",
            "description_tooltip": null,
            "layout": "IPY_MODEL_7b8e49fbbab04a95a28b6edab964c6ac",
            "placeholder": "​",
            "style": "IPY_MODEL_8dcd4d8accbc46d6b56fa6bb44251db4",
            "value": " 29696/? [00:00&lt;00:00, 740617.28it/s]"
          }
        },
        "fd43383f02c74e8ca87a22549f048967": {
          "model_module": "@jupyter-widgets/controls",
          "model_name": "DescriptionStyleModel",
          "model_module_version": "1.5.0",
          "state": {
            "_model_module": "@jupyter-widgets/controls",
            "_model_module_version": "1.5.0",
            "_model_name": "DescriptionStyleModel",
            "_view_count": null,
            "_view_module": "@jupyter-widgets/base",
            "_view_module_version": "1.2.0",
            "_view_name": "StyleView",
            "description_width": ""
          }
        },
        "5e7bf314b7264e3e8fd14d1401b15701": {
          "model_module": "@jupyter-widgets/base",
          "model_name": "LayoutModel",
          "model_module_version": "1.2.0",
          "state": {
            "_model_module": "@jupyter-widgets/base",
            "_model_module_version": "1.2.0",
            "_model_name": "LayoutModel",
            "_view_count": null,
            "_view_module": "@jupyter-widgets/base",
            "_view_module_version": "1.2.0",
            "_view_name": "LayoutView",
            "align_content": null,
            "align_items": null,
            "align_self": null,
            "border": null,
            "bottom": null,
            "display": null,
            "flex": null,
            "flex_flow": null,
            "grid_area": null,
            "grid_auto_columns": null,
            "grid_auto_flow": null,
            "grid_auto_rows": null,
            "grid_column": null,
            "grid_gap": null,
            "grid_row": null,
            "grid_template_areas": null,
            "grid_template_columns": null,
            "grid_template_rows": null,
            "height": null,
            "justify_content": null,
            "justify_items": null,
            "left": null,
            "margin": null,
            "max_height": null,
            "max_width": null,
            "min_height": null,
            "min_width": null,
            "object_fit": null,
            "object_position": null,
            "order": null,
            "overflow": null,
            "overflow_x": null,
            "overflow_y": null,
            "padding": null,
            "right": null,
            "top": null,
            "visibility": null,
            "width": null
          }
        },
        "4b50e016310f43e3b715970f40c19568": {
          "model_module": "@jupyter-widgets/controls",
          "model_name": "ProgressStyleModel",
          "model_module_version": "1.5.0",
          "state": {
            "_model_module": "@jupyter-widgets/controls",
            "_model_module_version": "1.5.0",
            "_model_name": "ProgressStyleModel",
            "_view_count": null,
            "_view_module": "@jupyter-widgets/base",
            "_view_module_version": "1.2.0",
            "_view_name": "StyleView",
            "bar_color": null,
            "description_width": ""
          }
        },
        "33ae547145044ac288c716fea1714b05": {
          "model_module": "@jupyter-widgets/base",
          "model_name": "LayoutModel",
          "model_module_version": "1.2.0",
          "state": {
            "_model_module": "@jupyter-widgets/base",
            "_model_module_version": "1.2.0",
            "_model_name": "LayoutModel",
            "_view_count": null,
            "_view_module": "@jupyter-widgets/base",
            "_view_module_version": "1.2.0",
            "_view_name": "LayoutView",
            "align_content": null,
            "align_items": null,
            "align_self": null,
            "border": null,
            "bottom": null,
            "display": null,
            "flex": null,
            "flex_flow": null,
            "grid_area": null,
            "grid_auto_columns": null,
            "grid_auto_flow": null,
            "grid_auto_rows": null,
            "grid_column": null,
            "grid_gap": null,
            "grid_row": null,
            "grid_template_areas": null,
            "grid_template_columns": null,
            "grid_template_rows": null,
            "height": null,
            "justify_content": null,
            "justify_items": null,
            "left": null,
            "margin": null,
            "max_height": null,
            "max_width": null,
            "min_height": null,
            "min_width": null,
            "object_fit": null,
            "object_position": null,
            "order": null,
            "overflow": null,
            "overflow_x": null,
            "overflow_y": null,
            "padding": null,
            "right": null,
            "top": null,
            "visibility": null,
            "width": null
          }
        },
        "8dcd4d8accbc46d6b56fa6bb44251db4": {
          "model_module": "@jupyter-widgets/controls",
          "model_name": "DescriptionStyleModel",
          "model_module_version": "1.5.0",
          "state": {
            "_model_module": "@jupyter-widgets/controls",
            "_model_module_version": "1.5.0",
            "_model_name": "DescriptionStyleModel",
            "_view_count": null,
            "_view_module": "@jupyter-widgets/base",
            "_view_module_version": "1.2.0",
            "_view_name": "StyleView",
            "description_width": ""
          }
        },
        "7b8e49fbbab04a95a28b6edab964c6ac": {
          "model_module": "@jupyter-widgets/base",
          "model_name": "LayoutModel",
          "model_module_version": "1.2.0",
          "state": {
            "_model_module": "@jupyter-widgets/base",
            "_model_module_version": "1.2.0",
            "_model_name": "LayoutModel",
            "_view_count": null,
            "_view_module": "@jupyter-widgets/base",
            "_view_module_version": "1.2.0",
            "_view_name": "LayoutView",
            "align_content": null,
            "align_items": null,
            "align_self": null,
            "border": null,
            "bottom": null,
            "display": null,
            "flex": null,
            "flex_flow": null,
            "grid_area": null,
            "grid_auto_columns": null,
            "grid_auto_flow": null,
            "grid_auto_rows": null,
            "grid_column": null,
            "grid_gap": null,
            "grid_row": null,
            "grid_template_areas": null,
            "grid_template_columns": null,
            "grid_template_rows": null,
            "height": null,
            "justify_content": null,
            "justify_items": null,
            "left": null,
            "margin": null,
            "max_height": null,
            "max_width": null,
            "min_height": null,
            "min_width": null,
            "object_fit": null,
            "object_position": null,
            "order": null,
            "overflow": null,
            "overflow_x": null,
            "overflow_y": null,
            "padding": null,
            "right": null,
            "top": null,
            "visibility": null,
            "width": null
          }
        },
        "6663096d46164dc4bf34a4e160a7c88a": {
          "model_module": "@jupyter-widgets/controls",
          "model_name": "HBoxModel",
          "model_module_version": "1.5.0",
          "state": {
            "_dom_classes": [],
            "_model_module": "@jupyter-widgets/controls",
            "_model_module_version": "1.5.0",
            "_model_name": "HBoxModel",
            "_view_count": null,
            "_view_module": "@jupyter-widgets/controls",
            "_view_module_version": "1.5.0",
            "_view_name": "HBoxView",
            "box_style": "",
            "children": [
              "IPY_MODEL_a80fcaa453f2419aad8a173357bb63ce",
              "IPY_MODEL_3a66ff24fea24764bc3c4a733ced2654",
              "IPY_MODEL_1009126458af480ea43b24fcdbe3b8fd"
            ],
            "layout": "IPY_MODEL_66c1e58989cd43f4b447f5a5b266718b"
          }
        },
        "66c1e58989cd43f4b447f5a5b266718b": {
          "model_module": "@jupyter-widgets/base",
          "model_name": "LayoutModel",
          "model_module_version": "1.2.0",
          "state": {
            "_model_module": "@jupyter-widgets/base",
            "_model_module_version": "1.2.0",
            "_model_name": "LayoutModel",
            "_view_count": null,
            "_view_module": "@jupyter-widgets/base",
            "_view_module_version": "1.2.0",
            "_view_name": "LayoutView",
            "align_content": null,
            "align_items": null,
            "align_self": null,
            "border": null,
            "bottom": null,
            "display": null,
            "flex": null,
            "flex_flow": null,
            "grid_area": null,
            "grid_auto_columns": null,
            "grid_auto_flow": null,
            "grid_auto_rows": null,
            "grid_column": null,
            "grid_gap": null,
            "grid_row": null,
            "grid_template_areas": null,
            "grid_template_columns": null,
            "grid_template_rows": null,
            "height": null,
            "justify_content": null,
            "justify_items": null,
            "left": null,
            "margin": null,
            "max_height": null,
            "max_width": null,
            "min_height": null,
            "min_width": null,
            "object_fit": null,
            "object_position": null,
            "order": null,
            "overflow": null,
            "overflow_x": null,
            "overflow_y": null,
            "padding": null,
            "right": null,
            "top": null,
            "visibility": null,
            "width": null
          }
        },
        "a80fcaa453f2419aad8a173357bb63ce": {
          "model_module": "@jupyter-widgets/controls",
          "model_name": "HTMLModel",
          "model_module_version": "1.5.0",
          "state": {
            "_dom_classes": [],
            "_model_module": "@jupyter-widgets/controls",
            "_model_module_version": "1.5.0",
            "_model_name": "HTMLModel",
            "_view_count": null,
            "_view_module": "@jupyter-widgets/controls",
            "_view_module_version": "1.5.0",
            "_view_name": "HTMLView",
            "description": "",
            "description_tooltip": null,
            "layout": "IPY_MODEL_17a9df6ac62c446594a5eba2e8ad984b",
            "placeholder": "​",
            "style": "IPY_MODEL_65f8125c792445699595e5908a04c95e",
            "value": ""
          }
        },
        "3a66ff24fea24764bc3c4a733ced2654": {
          "model_module": "@jupyter-widgets/controls",
          "model_name": "FloatProgressModel",
          "model_module_version": "1.5.0",
          "state": {
            "_dom_classes": [],
            "_model_module": "@jupyter-widgets/controls",
            "_model_module_version": "1.5.0",
            "_model_name": "FloatProgressModel",
            "_view_count": null,
            "_view_module": "@jupyter-widgets/controls",
            "_view_module_version": "1.5.0",
            "_view_name": "ProgressView",
            "bar_style": "success",
            "description": "",
            "description_tooltip": null,
            "layout": "IPY_MODEL_9c97cf7da1a34e14a3595a34de43dd31",
            "max": 4422102,
            "min": 0,
            "orientation": "horizontal",
            "style": "IPY_MODEL_407721d876254738912cf679b7c94035",
            "value": 4422102
          }
        },
        "1009126458af480ea43b24fcdbe3b8fd": {
          "model_module": "@jupyter-widgets/controls",
          "model_name": "HTMLModel",
          "model_module_version": "1.5.0",
          "state": {
            "_dom_classes": [],
            "_model_module": "@jupyter-widgets/controls",
            "_model_module_version": "1.5.0",
            "_model_name": "HTMLModel",
            "_view_count": null,
            "_view_module": "@jupyter-widgets/controls",
            "_view_module_version": "1.5.0",
            "_view_name": "HTMLView",
            "description": "",
            "description_tooltip": null,
            "layout": "IPY_MODEL_5c09579550ba41a5b73f3574e50dc709",
            "placeholder": "​",
            "style": "IPY_MODEL_ef0fa20ccb854fee86fb9ce4a4560d4e",
            "value": " 4422656/? [00:00&lt;00:00, 22003847.78it/s]"
          }
        },
        "65f8125c792445699595e5908a04c95e": {
          "model_module": "@jupyter-widgets/controls",
          "model_name": "DescriptionStyleModel",
          "model_module_version": "1.5.0",
          "state": {
            "_model_module": "@jupyter-widgets/controls",
            "_model_module_version": "1.5.0",
            "_model_name": "DescriptionStyleModel",
            "_view_count": null,
            "_view_module": "@jupyter-widgets/base",
            "_view_module_version": "1.2.0",
            "_view_name": "StyleView",
            "description_width": ""
          }
        },
        "17a9df6ac62c446594a5eba2e8ad984b": {
          "model_module": "@jupyter-widgets/base",
          "model_name": "LayoutModel",
          "model_module_version": "1.2.0",
          "state": {
            "_model_module": "@jupyter-widgets/base",
            "_model_module_version": "1.2.0",
            "_model_name": "LayoutModel",
            "_view_count": null,
            "_view_module": "@jupyter-widgets/base",
            "_view_module_version": "1.2.0",
            "_view_name": "LayoutView",
            "align_content": null,
            "align_items": null,
            "align_self": null,
            "border": null,
            "bottom": null,
            "display": null,
            "flex": null,
            "flex_flow": null,
            "grid_area": null,
            "grid_auto_columns": null,
            "grid_auto_flow": null,
            "grid_auto_rows": null,
            "grid_column": null,
            "grid_gap": null,
            "grid_row": null,
            "grid_template_areas": null,
            "grid_template_columns": null,
            "grid_template_rows": null,
            "height": null,
            "justify_content": null,
            "justify_items": null,
            "left": null,
            "margin": null,
            "max_height": null,
            "max_width": null,
            "min_height": null,
            "min_width": null,
            "object_fit": null,
            "object_position": null,
            "order": null,
            "overflow": null,
            "overflow_x": null,
            "overflow_y": null,
            "padding": null,
            "right": null,
            "top": null,
            "visibility": null,
            "width": null
          }
        },
        "407721d876254738912cf679b7c94035": {
          "model_module": "@jupyter-widgets/controls",
          "model_name": "ProgressStyleModel",
          "model_module_version": "1.5.0",
          "state": {
            "_model_module": "@jupyter-widgets/controls",
            "_model_module_version": "1.5.0",
            "_model_name": "ProgressStyleModel",
            "_view_count": null,
            "_view_module": "@jupyter-widgets/base",
            "_view_module_version": "1.2.0",
            "_view_name": "StyleView",
            "bar_color": null,
            "description_width": ""
          }
        },
        "9c97cf7da1a34e14a3595a34de43dd31": {
          "model_module": "@jupyter-widgets/base",
          "model_name": "LayoutModel",
          "model_module_version": "1.2.0",
          "state": {
            "_model_module": "@jupyter-widgets/base",
            "_model_module_version": "1.2.0",
            "_model_name": "LayoutModel",
            "_view_count": null,
            "_view_module": "@jupyter-widgets/base",
            "_view_module_version": "1.2.0",
            "_view_name": "LayoutView",
            "align_content": null,
            "align_items": null,
            "align_self": null,
            "border": null,
            "bottom": null,
            "display": null,
            "flex": null,
            "flex_flow": null,
            "grid_area": null,
            "grid_auto_columns": null,
            "grid_auto_flow": null,
            "grid_auto_rows": null,
            "grid_column": null,
            "grid_gap": null,
            "grid_row": null,
            "grid_template_areas": null,
            "grid_template_columns": null,
            "grid_template_rows": null,
            "height": null,
            "justify_content": null,
            "justify_items": null,
            "left": null,
            "margin": null,
            "max_height": null,
            "max_width": null,
            "min_height": null,
            "min_width": null,
            "object_fit": null,
            "object_position": null,
            "order": null,
            "overflow": null,
            "overflow_x": null,
            "overflow_y": null,
            "padding": null,
            "right": null,
            "top": null,
            "visibility": null,
            "width": null
          }
        },
        "ef0fa20ccb854fee86fb9ce4a4560d4e": {
          "model_module": "@jupyter-widgets/controls",
          "model_name": "DescriptionStyleModel",
          "model_module_version": "1.5.0",
          "state": {
            "_model_module": "@jupyter-widgets/controls",
            "_model_module_version": "1.5.0",
            "_model_name": "DescriptionStyleModel",
            "_view_count": null,
            "_view_module": "@jupyter-widgets/base",
            "_view_module_version": "1.2.0",
            "_view_name": "StyleView",
            "description_width": ""
          }
        },
        "5c09579550ba41a5b73f3574e50dc709": {
          "model_module": "@jupyter-widgets/base",
          "model_name": "LayoutModel",
          "model_module_version": "1.2.0",
          "state": {
            "_model_module": "@jupyter-widgets/base",
            "_model_module_version": "1.2.0",
            "_model_name": "LayoutModel",
            "_view_count": null,
            "_view_module": "@jupyter-widgets/base",
            "_view_module_version": "1.2.0",
            "_view_name": "LayoutView",
            "align_content": null,
            "align_items": null,
            "align_self": null,
            "border": null,
            "bottom": null,
            "display": null,
            "flex": null,
            "flex_flow": null,
            "grid_area": null,
            "grid_auto_columns": null,
            "grid_auto_flow": null,
            "grid_auto_rows": null,
            "grid_column": null,
            "grid_gap": null,
            "grid_row": null,
            "grid_template_areas": null,
            "grid_template_columns": null,
            "grid_template_rows": null,
            "height": null,
            "justify_content": null,
            "justify_items": null,
            "left": null,
            "margin": null,
            "max_height": null,
            "max_width": null,
            "min_height": null,
            "min_width": null,
            "object_fit": null,
            "object_position": null,
            "order": null,
            "overflow": null,
            "overflow_x": null,
            "overflow_y": null,
            "padding": null,
            "right": null,
            "top": null,
            "visibility": null,
            "width": null
          }
        },
        "706df5f310c84aeb83f15caba5100932": {
          "model_module": "@jupyter-widgets/controls",
          "model_name": "HBoxModel",
          "model_module_version": "1.5.0",
          "state": {
            "_dom_classes": [],
            "_model_module": "@jupyter-widgets/controls",
            "_model_module_version": "1.5.0",
            "_model_name": "HBoxModel",
            "_view_count": null,
            "_view_module": "@jupyter-widgets/controls",
            "_view_module_version": "1.5.0",
            "_view_name": "HBoxView",
            "box_style": "",
            "children": [
              "IPY_MODEL_f4336fa4f6814f15bb1df5209b4d58ba",
              "IPY_MODEL_a61e2c2705894d02b7d95eb0e93048f7",
              "IPY_MODEL_3c6bf89ec50e447b8e461ebf9741dc13"
            ],
            "layout": "IPY_MODEL_265e8bb86cb64f76a7e0291c445f7575"
          }
        },
        "265e8bb86cb64f76a7e0291c445f7575": {
          "model_module": "@jupyter-widgets/base",
          "model_name": "LayoutModel",
          "model_module_version": "1.2.0",
          "state": {
            "_model_module": "@jupyter-widgets/base",
            "_model_module_version": "1.2.0",
            "_model_name": "LayoutModel",
            "_view_count": null,
            "_view_module": "@jupyter-widgets/base",
            "_view_module_version": "1.2.0",
            "_view_name": "LayoutView",
            "align_content": null,
            "align_items": null,
            "align_self": null,
            "border": null,
            "bottom": null,
            "display": null,
            "flex": null,
            "flex_flow": null,
            "grid_area": null,
            "grid_auto_columns": null,
            "grid_auto_flow": null,
            "grid_auto_rows": null,
            "grid_column": null,
            "grid_gap": null,
            "grid_row": null,
            "grid_template_areas": null,
            "grid_template_columns": null,
            "grid_template_rows": null,
            "height": null,
            "justify_content": null,
            "justify_items": null,
            "left": null,
            "margin": null,
            "max_height": null,
            "max_width": null,
            "min_height": null,
            "min_width": null,
            "object_fit": null,
            "object_position": null,
            "order": null,
            "overflow": null,
            "overflow_x": null,
            "overflow_y": null,
            "padding": null,
            "right": null,
            "top": null,
            "visibility": null,
            "width": null
          }
        },
        "f4336fa4f6814f15bb1df5209b4d58ba": {
          "model_module": "@jupyter-widgets/controls",
          "model_name": "HTMLModel",
          "model_module_version": "1.5.0",
          "state": {
            "_dom_classes": [],
            "_model_module": "@jupyter-widgets/controls",
            "_model_module_version": "1.5.0",
            "_model_name": "HTMLModel",
            "_view_count": null,
            "_view_module": "@jupyter-widgets/controls",
            "_view_module_version": "1.5.0",
            "_view_name": "HTMLView",
            "description": "",
            "description_tooltip": null,
            "layout": "IPY_MODEL_f93898dd42b3410898860822129ca213",
            "placeholder": "​",
            "style": "IPY_MODEL_096c61c978c545c6ac70a7a02a519e37",
            "value": ""
          }
        },
        "a61e2c2705894d02b7d95eb0e93048f7": {
          "model_module": "@jupyter-widgets/controls",
          "model_name": "FloatProgressModel",
          "model_module_version": "1.5.0",
          "state": {
            "_dom_classes": [],
            "_model_module": "@jupyter-widgets/controls",
            "_model_module_version": "1.5.0",
            "_model_name": "FloatProgressModel",
            "_view_count": null,
            "_view_module": "@jupyter-widgets/controls",
            "_view_module_version": "1.5.0",
            "_view_name": "ProgressView",
            "bar_style": "success",
            "description": "",
            "description_tooltip": null,
            "layout": "IPY_MODEL_8830c341064548b5a9e551f9b1d552c2",
            "max": 5148,
            "min": 0,
            "orientation": "horizontal",
            "style": "IPY_MODEL_b1da9f9ed5c44f73be9a53bdba538fc0",
            "value": 5148
          }
        },
        "3c6bf89ec50e447b8e461ebf9741dc13": {
          "model_module": "@jupyter-widgets/controls",
          "model_name": "HTMLModel",
          "model_module_version": "1.5.0",
          "state": {
            "_dom_classes": [],
            "_model_module": "@jupyter-widgets/controls",
            "_model_module_version": "1.5.0",
            "_model_name": "HTMLModel",
            "_view_count": null,
            "_view_module": "@jupyter-widgets/controls",
            "_view_module_version": "1.5.0",
            "_view_name": "HTMLView",
            "description": "",
            "description_tooltip": null,
            "layout": "IPY_MODEL_96943a68cc634008993ee7a5bf82d8b4",
            "placeholder": "​",
            "style": "IPY_MODEL_8c7186faf56449fe947285a908aa7efc",
            "value": " 6144/? [00:00&lt;00:00, 155646.71it/s]"
          }
        },
        "096c61c978c545c6ac70a7a02a519e37": {
          "model_module": "@jupyter-widgets/controls",
          "model_name": "DescriptionStyleModel",
          "model_module_version": "1.5.0",
          "state": {
            "_model_module": "@jupyter-widgets/controls",
            "_model_module_version": "1.5.0",
            "_model_name": "DescriptionStyleModel",
            "_view_count": null,
            "_view_module": "@jupyter-widgets/base",
            "_view_module_version": "1.2.0",
            "_view_name": "StyleView",
            "description_width": ""
          }
        },
        "f93898dd42b3410898860822129ca213": {
          "model_module": "@jupyter-widgets/base",
          "model_name": "LayoutModel",
          "model_module_version": "1.2.0",
          "state": {
            "_model_module": "@jupyter-widgets/base",
            "_model_module_version": "1.2.0",
            "_model_name": "LayoutModel",
            "_view_count": null,
            "_view_module": "@jupyter-widgets/base",
            "_view_module_version": "1.2.0",
            "_view_name": "LayoutView",
            "align_content": null,
            "align_items": null,
            "align_self": null,
            "border": null,
            "bottom": null,
            "display": null,
            "flex": null,
            "flex_flow": null,
            "grid_area": null,
            "grid_auto_columns": null,
            "grid_auto_flow": null,
            "grid_auto_rows": null,
            "grid_column": null,
            "grid_gap": null,
            "grid_row": null,
            "grid_template_areas": null,
            "grid_template_columns": null,
            "grid_template_rows": null,
            "height": null,
            "justify_content": null,
            "justify_items": null,
            "left": null,
            "margin": null,
            "max_height": null,
            "max_width": null,
            "min_height": null,
            "min_width": null,
            "object_fit": null,
            "object_position": null,
            "order": null,
            "overflow": null,
            "overflow_x": null,
            "overflow_y": null,
            "padding": null,
            "right": null,
            "top": null,
            "visibility": null,
            "width": null
          }
        },
        "b1da9f9ed5c44f73be9a53bdba538fc0": {
          "model_module": "@jupyter-widgets/controls",
          "model_name": "ProgressStyleModel",
          "model_module_version": "1.5.0",
          "state": {
            "_model_module": "@jupyter-widgets/controls",
            "_model_module_version": "1.5.0",
            "_model_name": "ProgressStyleModel",
            "_view_count": null,
            "_view_module": "@jupyter-widgets/base",
            "_view_module_version": "1.2.0",
            "_view_name": "StyleView",
            "bar_color": null,
            "description_width": ""
          }
        },
        "8830c341064548b5a9e551f9b1d552c2": {
          "model_module": "@jupyter-widgets/base",
          "model_name": "LayoutModel",
          "model_module_version": "1.2.0",
          "state": {
            "_model_module": "@jupyter-widgets/base",
            "_model_module_version": "1.2.0",
            "_model_name": "LayoutModel",
            "_view_count": null,
            "_view_module": "@jupyter-widgets/base",
            "_view_module_version": "1.2.0",
            "_view_name": "LayoutView",
            "align_content": null,
            "align_items": null,
            "align_self": null,
            "border": null,
            "bottom": null,
            "display": null,
            "flex": null,
            "flex_flow": null,
            "grid_area": null,
            "grid_auto_columns": null,
            "grid_auto_flow": null,
            "grid_auto_rows": null,
            "grid_column": null,
            "grid_gap": null,
            "grid_row": null,
            "grid_template_areas": null,
            "grid_template_columns": null,
            "grid_template_rows": null,
            "height": null,
            "justify_content": null,
            "justify_items": null,
            "left": null,
            "margin": null,
            "max_height": null,
            "max_width": null,
            "min_height": null,
            "min_width": null,
            "object_fit": null,
            "object_position": null,
            "order": null,
            "overflow": null,
            "overflow_x": null,
            "overflow_y": null,
            "padding": null,
            "right": null,
            "top": null,
            "visibility": null,
            "width": null
          }
        },
        "8c7186faf56449fe947285a908aa7efc": {
          "model_module": "@jupyter-widgets/controls",
          "model_name": "DescriptionStyleModel",
          "model_module_version": "1.5.0",
          "state": {
            "_model_module": "@jupyter-widgets/controls",
            "_model_module_version": "1.5.0",
            "_model_name": "DescriptionStyleModel",
            "_view_count": null,
            "_view_module": "@jupyter-widgets/base",
            "_view_module_version": "1.2.0",
            "_view_name": "StyleView",
            "description_width": ""
          }
        },
        "96943a68cc634008993ee7a5bf82d8b4": {
          "model_module": "@jupyter-widgets/base",
          "model_name": "LayoutModel",
          "model_module_version": "1.2.0",
          "state": {
            "_model_module": "@jupyter-widgets/base",
            "_model_module_version": "1.2.0",
            "_model_name": "LayoutModel",
            "_view_count": null,
            "_view_module": "@jupyter-widgets/base",
            "_view_module_version": "1.2.0",
            "_view_name": "LayoutView",
            "align_content": null,
            "align_items": null,
            "align_self": null,
            "border": null,
            "bottom": null,
            "display": null,
            "flex": null,
            "flex_flow": null,
            "grid_area": null,
            "grid_auto_columns": null,
            "grid_auto_flow": null,
            "grid_auto_rows": null,
            "grid_column": null,
            "grid_gap": null,
            "grid_row": null,
            "grid_template_areas": null,
            "grid_template_columns": null,
            "grid_template_rows": null,
            "height": null,
            "justify_content": null,
            "justify_items": null,
            "left": null,
            "margin": null,
            "max_height": null,
            "max_width": null,
            "min_height": null,
            "min_width": null,
            "object_fit": null,
            "object_position": null,
            "order": null,
            "overflow": null,
            "overflow_x": null,
            "overflow_y": null,
            "padding": null,
            "right": null,
            "top": null,
            "visibility": null,
            "width": null
          }
        }
      }
    }
  },
  "cells": [
    {
      "cell_type": "markdown",
      "metadata": {
        "id": "_C_FgFW8_gHt"
      },
      "source": [
        "# **Import Packages**"
      ],
      "id": "_C_FgFW8_gHt"
    },
    {
      "cell_type": "code",
      "metadata": {
        "id": "9e3049a5"
      },
      "source": [
        "import os\n",
        "import glob\n",
        "import torch\n",
        "import numpy as np\n",
        "import pandas as pd\n",
        "import os.path as osp\n",
        "from PIL import Image\n",
        "import torch.nn as nn\n",
        "from numpy import mean\n",
        "import torchvision as tv\n",
        "from torch.utils import data\n",
        "from google.colab import drive\n",
        "import matplotlib.pyplot as plt\n",
        "from torch.autograd import Variable\n",
        "from torchvision.utils import make_grid\n",
        "from torch.utils.data import DataLoader, Dataset\n",
        "from torchvision import datasets, transforms, models\n",
        "\n",
        "# from skimage import io\n",
        "# from IPython.display import Image\n",
        "\n",
        "torch.manual_seed(60)\n",
        "%matplotlib inline"
      ],
      "id": "9e3049a5",
      "execution_count": null,
      "outputs": []
    },
    {
      "cell_type": "markdown",
      "metadata": {
        "id": "NAK5st7fUW5l"
      },
      "source": [
        "# **Dataset 1**"
      ],
      "id": "NAK5st7fUW5l"
    },
    {
      "cell_type": "markdown",
      "metadata": {
        "id": "8zR0EK8dlCXi"
      },
      "source": [
        "## **Dataset Preperation**"
      ],
      "id": "8zR0EK8dlCXi"
    },
    {
      "cell_type": "code",
      "metadata": {
        "colab": {
          "base_uri": "https://localhost:8080/"
        },
        "id": "wSD9E1iwmk9B",
        "outputId": "e3c428a5-1ecd-4bf9-bb4c-62f91f1af6b7"
      },
      "source": [
        "# uploaded = files.upload()\n",
        "# df = pd.read_csv(io.BytesIO(uploaded['training-a.csv']))\n",
        "# df.head()\n",
        "\n",
        "drive.mount(\"/content/gdrive\")"
      ],
      "id": "wSD9E1iwmk9B",
      "execution_count": null,
      "outputs": [
        {
          "name": "stdout",
          "output_type": "stream",
          "text": [
            "Mounted at /content/gdrive\n"
          ]
        }
      ]
    },
    {
      "cell_type": "code",
      "metadata": {
        "id": "H68uYi1_gp2W"
      },
      "source": [
        "df = pd.read_csv('/content/gdrive/MyDrive/Colab Notebooks/SCLab/Assignment2/training-a.csv')\n",
        "df.head()"
      ],
      "id": "H68uYi1_gp2W",
      "execution_count": null,
      "outputs": []
    },
    {
      "cell_type": "code",
      "metadata": {
        "colab": {
          "base_uri": "https://localhost:8080/"
        },
        "id": "4gPqNh7Fn3ky",
        "outputId": "189165e0-a3c2-46c8-a392-94dde35f11a2"
      },
      "source": [
        "df.drop(['original filename', 'scanid', 'database name original', 'contributing team', 'database name'], axis = 1, inplace = True)\n",
        "df.to_csv('training_set.csv', index = False)\n",
        "df = pd.read_csv('/content/gdrive/MyDrive/Colab Notebooks/SCLab/Assignment2/training_set.csv')\n",
        "df.shape"
      ],
      "id": "4gPqNh7Fn3ky",
      "execution_count": null,
      "outputs": [
        {
          "data": {
            "text/plain": [
              "(19702, 2)"
            ]
          },
          "execution_count": 4,
          "metadata": {},
          "output_type": "execute_result"
        }
      ]
    },
    {
      "cell_type": "code",
      "metadata": {
        "id": "eKDxwEKwyHnx"
      },
      "source": [
        "class DigitDataset(Dataset):\n",
        "    def __init__(self, csv_file, root_dir, transform = None):\n",
        "        self.annotations = pd.read_csv(csv_file)\n",
        "        self.root_dir = root_dir\n",
        "        self.transform = transform\n",
        "\n",
        "    def __len__(self):\n",
        "        return len(self.annotations)\n",
        "\n",
        "    def __getitem__(self, index):\n",
        "        img_path = os.path.join(self.root_dir, self.annotations.iloc[index, 0])\n",
        "        image = Image.open(img_path).convert('L')\n",
        "        y_label = torch.tensor(int(self.annotations.iloc[index, 1]))\n",
        "\n",
        "        if self.transform:\n",
        "            image = self.transform(image)\n",
        "            \n",
        "        return image, y_label"
      ],
      "id": "eKDxwEKwyHnx",
      "execution_count": null,
      "outputs": []
    },
    {
      "cell_type": "markdown",
      "metadata": {
        "id": "aYvEKbXzeo1S"
      },
      "source": [
        "## **DNN Model**"
      ],
      "id": "aYvEKbXzeo1S"
    },
    {
      "cell_type": "code",
      "metadata": {
        "id": "_DnydoM0emkT"
      },
      "source": [
        "class DeepNeuralNetworkModel(nn.Module):\n",
        "    def __init__(self, input_size, num_classes, num_hidden):\n",
        "        super().__init__()\n",
        "\n",
        "        self.linear_1 = nn.Linear(input_size, num_hidden)\n",
        "        self.relu_1 = nn.ReLU()\n",
        "\n",
        "        self.linear_2 = nn.Linear(num_hidden, num_hidden)\n",
        "        self.relu_2 = nn.ReLU()\n",
        "\n",
        "        self.linear_3 = nn.Linear(num_hidden, num_hidden)\n",
        "        self.relu_3 = nn.ReLU()\n",
        "\n",
        "        self.linear_4 = nn.Linear(num_hidden, num_hidden)\n",
        "        self.relu_4 = nn.ReLU()\n",
        "\n",
        "        self.linear_5 = nn.Linear(num_hidden, num_hidden)\n",
        "        self.relu_5 = nn.ReLU()\n",
        "\n",
        "        self.linear_6 = nn.Linear(num_hidden, num_hidden)\n",
        "        self.relu_6 = nn.ReLU()\n",
        "\n",
        "        self.linear_out = nn.Linear(num_hidden, num_classes)\n",
        "\n",
        "    def forward(self, x):\n",
        "        out  = self.linear_1(x)\n",
        "        out = self.relu_1(out)\n",
        "        \n",
        "        out  = self.linear_2(out)\n",
        "        out = self.relu_2(out)\n",
        "\n",
        "        out  = self.linear_3(out)\n",
        "        out = self.relu_3(out)\n",
        "\n",
        "        out  = self.linear_4(out)\n",
        "        out = self.relu_4(out)\n",
        "\n",
        "        out  = self.linear_5(out)\n",
        "        out = self.relu_5(out)\n",
        "\n",
        "        out  = self.linear_6(out)\n",
        "        out = self.relu_6(out)\n",
        "        \n",
        "        probas = self.linear_out(out)\n",
        "        return probas"
      ],
      "id": "_DnydoM0emkT",
      "execution_count": null,
      "outputs": []
    },
    {
      "cell_type": "markdown",
      "metadata": {
        "id": "A5stoT-4fxPR"
      },
      "source": [
        "## **Model Training**"
      ],
      "id": "A5stoT-4fxPR"
    },
    {
      "cell_type": "code",
      "metadata": {
        "colab": {
          "base_uri": "https://localhost:8080/"
        },
        "id": "oXBs81cFfYoD",
        "outputId": "2203383c-d5cb-4e0c-a1f2-105c40fdb04d"
      },
      "source": [
        "batch_size = 20\n",
        "num_iters = 20000\n",
        "input_dim = 180*180\n",
        "num_hidden = 200\n",
        "output_dim = 10\n",
        "learning_rate = 0.01\n",
        "# number of hidden layers = 6\n",
        "\n",
        "device = torch.device(\"cuda:0\" if torch.cuda.is_available() else \"cpu\")\n",
        "print(device)\n",
        "\n",
        "mean = 0.5\n",
        "std = 0.5\n",
        "custom_transform = transforms.Compose([transforms.Resize(180), transforms.ToTensor(), transforms.Normalize(mean, std)])\n",
        "dataset = DigitDataset(csv_file = '/content/gdrive/MyDrive/Colab Notebooks/SCLab/Assignment2/training_set.csv',\n",
        "                       root_dir = '/content/gdrive/MyDrive/Colab Notebooks/SCLab/Assignment2/training-a',\n",
        "                       transform = custom_transform)\n",
        "\n",
        "dataset_len = len(dataset)\n",
        "train_len = int(dataset_len * 0.8)\n",
        "test_len = dataset_len - train_len\n",
        "train_set, test_set = data.random_split(dataset, [train_len, test_len])\n",
        "\n",
        "num_epochs = num_iters / (len(train_set) / batch_size)\n",
        "num_epochs = int(num_epochs)\n",
        "\n",
        "train_loader = DataLoader(dataset = train_set, batch_size = batch_size, shuffle = True)\n",
        "test_loader = DataLoader(dataset = test_set, batch_size = batch_size, shuffle = False)\n",
        "\n",
        "print('Train loader: ', len(train_loader))\n",
        "print('Test loader: ', len(test_loader))\n",
        "print('Per image size: ', train_set[0][0].numpy().shape)\n",
        "print('Sample label: 1st image: ', train_set[0][1])"
      ],
      "id": "oXBs81cFfYoD",
      "execution_count": null,
      "outputs": [
        {
          "name": "stdout",
          "output_type": "stream",
          "text": [
            "cuda:0\n",
            "Train loader:  789\n",
            "Test loader:  198\n",
            "Per image size:  (1, 180, 180)\n",
            "Sample label: 1st image:  tensor(8)\n"
          ]
        }
      ]
    },
    {
      "cell_type": "code",
      "metadata": {
        "colab": {
          "base_uri": "https://localhost:8080/"
        },
        "id": "H5rW2XdA5sEP",
        "outputId": "304f533e-cedd-4236-c2a1-ce4d4b3b6def"
      },
      "source": [
        "iter = 0\n",
        "iter_list = []\n",
        "loss_list = []\n",
        "\n",
        "model = DeepNeuralNetworkModel(input_size = input_dim, num_classes = output_dim, num_hidden = num_hidden)\n",
        "model.to(device)\n",
        "\n",
        "criterion = nn.CrossEntropyLoss()\n",
        "optimizer = torch.optim.Adam(model.parameters(), lr = learning_rate)\n",
        "\n",
        "for epoch in range(num_epochs):\n",
        "    for i, (images, labels) in enumerate(train_loader):\n",
        "        images = images.view(-1, 180*180).to(device)\n",
        "        labels = labels.to(device)\n",
        "\n",
        "        optimizer.zero_grad()\n",
        "\n",
        "        outputs = model(images)\n",
        "\n",
        "        loss = criterion(outputs, labels)\n",
        "        loss_list.append(loss)\n",
        "\n",
        "        loss.backward()\n",
        "\n",
        "        optimizer.step()\n",
        "\n",
        "        iter += 1\n",
        "        iter_list.append(iter)\n",
        "\n",
        "        if iter % 500 == 0:       \n",
        "            correct = 0\n",
        "            total = 0\n",
        "            for images, labels in test_loader:\n",
        "                images = images.view(-1, 180*180).to(device)\n",
        "                outputs = model(images)\n",
        "                _, predicted = torch.max(outputs, 1)\n",
        "                total += labels.size(0)\n",
        "\n",
        "                if torch.cuda.is_available():\n",
        "                    correct += (predicted.cpu() == labels.cpu()).sum() \n",
        "                else:\n",
        "                    correct += (predicted == labels).sum()\n",
        "\n",
        "            accuracy = 100 * correct.item() / total\n",
        "            print('Iteration: {}. Loss: {}. Accuracy: {}'.format(iter, loss.item(), accuracy))"
      ],
      "id": "H5rW2XdA5sEP",
      "execution_count": null,
      "outputs": [
        {
          "name": "stdout",
          "output_type": "stream",
          "text": [
            "Iteration: 500. Loss: 2.309992790222168. Accuracy: 9.895965490992134\n",
            "Iteration: 1000. Loss: 2.3028972148895264. Accuracy: 9.71834559756407\n",
            "Iteration: 1500. Loss: 2.2916483879089355. Accuracy: 9.972088302461303\n",
            "Iteration: 2000. Loss: 2.3145415782928467. Accuracy: 10.09895965490992\n",
            "Iteration: 2500. Loss: 2.3281219005584717. Accuracy: 10.504947982745495\n",
            "Iteration: 3000. Loss: 2.297210216522217. Accuracy: 9.439228622177112\n",
            "Iteration: 3500. Loss: 2.3001835346221924. Accuracy: 9.972088302461303\n",
            "Iteration: 4000. Loss: 2.294147491455078. Accuracy: 9.972088302461303\n",
            "Iteration: 4500. Loss: 2.3067867755889893. Accuracy: 9.895965490992134\n",
            "Iteration: 5000. Loss: 2.2879340648651123. Accuracy: 9.819842679522964\n",
            "Iteration: 5500. Loss: 2.292207717895508. Accuracy: 9.71834559756407\n",
            "Iteration: 6000. Loss: 2.3236472606658936. Accuracy: 9.819842679522964\n",
            "Iteration: 6500. Loss: 2.3063406944274902. Accuracy: 9.895965490992134\n",
            "Iteration: 7000. Loss: 2.3076071739196777. Accuracy: 9.972088302461303\n",
            "Iteration: 7500. Loss: 2.2836813926696777. Accuracy: 10.504947982745495\n",
            "Iteration: 8000. Loss: 2.3078291416168213. Accuracy: 9.972088302461303\n",
            "Iteration: 8500. Loss: 2.3051769733428955. Accuracy: 9.71834559756407\n",
            "Iteration: 9000. Loss: 2.303363084793091. Accuracy: 10.09895965490992\n",
            "Iteration: 9500. Loss: 2.316425085067749. Accuracy: 9.819842679522964\n",
            "Iteration: 10000. Loss: 2.3047943115234375. Accuracy: 10.022836843440752\n",
            "Iteration: 10500. Loss: 2.298374891281128. Accuracy: 9.972088302461303\n",
            "Iteration: 11000. Loss: 2.304912805557251. Accuracy: 9.439228622177112\n",
            "Iteration: 11500. Loss: 2.30465030670166. Accuracy: 10.022836843440752\n",
            "Iteration: 12000. Loss: 2.3014650344848633. Accuracy: 10.022836843440752\n",
            "Iteration: 12500. Loss: 2.348963499069214. Accuracy: 9.895965490992134\n",
            "Iteration: 13000. Loss: 2.3083250522613525. Accuracy: 9.439228622177112\n",
            "Iteration: 13500. Loss: 2.3118069171905518. Accuracy: 9.895965490992134\n",
            "Iteration: 14000. Loss: 2.321164131164551. Accuracy: 10.504947982745495\n",
            "Iteration: 14500. Loss: 2.3041820526123047. Accuracy: 10.555696523724944\n",
            "Iteration: 15000. Loss: 2.3179209232330322. Accuracy: 9.895965490992134\n",
            "Iteration: 15500. Loss: 2.3299593925476074. Accuracy: 10.09895965490992\n",
            "Iteration: 16000. Loss: 2.304689645767212. Accuracy: 9.439228622177112\n",
            "Iteration: 16500. Loss: 2.3227078914642334. Accuracy: 9.972088302461303\n",
            "Iteration: 17000. Loss: 2.288337469100952. Accuracy: 9.439228622177112\n",
            "Iteration: 17500. Loss: 2.317389965057373. Accuracy: 10.555696523724944\n",
            "Iteration: 18000. Loss: 2.3103973865509033. Accuracy: 9.972088302461303\n",
            "Iteration: 18500. Loss: 2.2949767112731934. Accuracy: 10.555696523724944\n",
            "Iteration: 19000. Loss: 2.2851221561431885. Accuracy: 9.972088302461303\n",
            "Iteration: 19500. Loss: 2.322449207305908. Accuracy: 9.439228622177112\n"
          ]
        }
      ]
    },
    {
      "cell_type": "markdown",
      "metadata": {
        "id": "qh1sGxmEMOp9"
      },
      "source": [
        "### **Save Model**"
      ],
      "id": "qh1sGxmEMOp9"
    },
    {
      "cell_type": "code",
      "metadata": {
        "id": "WETubynGL52V"
      },
      "source": [
        "root_path = '/content/gdrive/MyDrive/Colab Notebooks/SCLab/Assignment2/'\n",
        "save_model = True\n",
        "\n",
        "if save_model is True:\n",
        "    torch.save(model.state_dict(), root_path + 'digit_classifier_dnn_exp1.pkl') "
      ],
      "id": "WETubynGL52V",
      "execution_count": null,
      "outputs": []
    },
    {
      "cell_type": "markdown",
      "metadata": {
        "id": "tQiXhwFMPjrb"
      },
      "source": [
        "### **Load Model**"
      ],
      "id": "tQiXhwFMPjrb"
    },
    {
      "cell_type": "code",
      "metadata": {
        "id": "8Vm0D0aQPdHF"
      },
      "source": [
        "load_model = True\n",
        "\n",
        "if load_model is True:\n",
        "    model.load_state_dict(torch.load(root_path + 'digit_classifier_dnn_exp1.pkl'))"
      ],
      "id": "8Vm0D0aQPdHF",
      "execution_count": null,
      "outputs": []
    },
    {
      "cell_type": "markdown",
      "metadata": {
        "id": "5HG9eFJMATox"
      },
      "source": [
        "## **Loss Curve**"
      ],
      "id": "5HG9eFJMATox"
    },
    {
      "cell_type": "code",
      "metadata": {
        "colab": {
          "base_uri": "https://localhost:8080/",
          "height": 279
        },
        "id": "NDeWDYaRADbM",
        "outputId": "2b18db8c-8783-46a8-8a07-443541b5d461"
      },
      "source": [
        "plt.plot(iter_list, loss_list)\n",
        "plt.ylabel('Loss')\n",
        "plt.xlabel('Iteration')\n",
        "plt.savefig('loss_ex1.png')\n",
        "plt.show()"
      ],
      "id": "NDeWDYaRADbM",
      "execution_count": null,
      "outputs": [
        {
          "data": {
            "image/png": "[encoded data removed]",
            "text/plain": [
              "<Figure size 432x288 with 1 Axes>"
            ]
          },
          "metadata": {
            "needs_background": "light"
          },
          "output_type": "display_data"
        }
      ]
    },
    {
      "cell_type": "markdown",
      "metadata": {
        "id": "xZ9ymkw88HQN"
      },
      "source": [
        "# **Dataset 2**"
      ],
      "id": "xZ9ymkw88HQN"
    },
    {
      "cell_type": "markdown",
      "metadata": {
        "id": "XkZlgu5gHdnC"
      },
      "source": [
        "## **Model Training**"
      ],
      "id": "XkZlgu5gHdnC"
    },
    {
      "cell_type": "code",
      "metadata": {
        "colab": {
          "base_uri": "https://localhost:8080/",
          "height": 556,
          "referenced_widgets": [
            "6bd52cb96e224495b5d984914e70edd9",
            "19aa9ec6248543ec8f32bfedab5bfa4d",
            "94535eaf7d3a4f6289045132a3970cd9",
            "b0f5d5f1afff45f9b348077c652ee014",
            "d1814d7ec89e49778808c174e6b9eb55",
            "a2fbf818bac34d508dd1725a6f710459",
            "beb209823f454f3c92642a6c84a46fc4",
            "7280f99cf9ad43119135c81cfa458ec3",
            "19303e2ec42c4a14ac82661cb2b4a9bc",
            "f98dafb8c29f44e3ad216ae23b3c5081",
            "5b4447a5d1fe4309998f3329671d068f",
            "b5c3f57820d1484fa2dd27f801978672",
            "a50f89a5797142d9b0a56d2bb61663dc",
            "685a2a2d4eba45abbd84c86077d1fc10",
            "97968dc4836349d78e1bbe2f94aff7d8",
            "44edfd1cc0ac44a6871cca482b075d05",
            "fd43383f02c74e8ca87a22549f048967",
            "5e7bf314b7264e3e8fd14d1401b15701",
            "4b50e016310f43e3b715970f40c19568",
            "33ae547145044ac288c716fea1714b05",
            "8dcd4d8accbc46d6b56fa6bb44251db4",
            "7b8e49fbbab04a95a28b6edab964c6ac",
            "6663096d46164dc4bf34a4e160a7c88a",
            "66c1e58989cd43f4b447f5a5b266718b",
            "a80fcaa453f2419aad8a173357bb63ce",
            "3a66ff24fea24764bc3c4a733ced2654",
            "1009126458af480ea43b24fcdbe3b8fd",
            "65f8125c792445699595e5908a04c95e",
            "17a9df6ac62c446594a5eba2e8ad984b",
            "407721d876254738912cf679b7c94035",
            "9c97cf7da1a34e14a3595a34de43dd31",
            "ef0fa20ccb854fee86fb9ce4a4560d4e",
            "5c09579550ba41a5b73f3574e50dc709",
            "706df5f310c84aeb83f15caba5100932",
            "265e8bb86cb64f76a7e0291c445f7575",
            "f4336fa4f6814f15bb1df5209b4d58ba",
            "a61e2c2705894d02b7d95eb0e93048f7",
            "3c6bf89ec50e447b8e461ebf9741dc13",
            "096c61c978c545c6ac70a7a02a519e37",
            "f93898dd42b3410898860822129ca213",
            "b1da9f9ed5c44f73be9a53bdba538fc0",
            "8830c341064548b5a9e551f9b1d552c2",
            "8c7186faf56449fe947285a908aa7efc",
            "96943a68cc634008993ee7a5bf82d8b4"
          ]
        },
        "id": "xGQOFe_OSB-B",
        "outputId": "110e5bde-ba55-4edc-99d3-8bab5c9e9f49"
      },
      "source": [
        "batch_size = 20\n",
        "num_iters = 20000\n",
        "input_dim = 28*28\n",
        "num_hidden = 200\n",
        "output_dim = 10\n",
        "learning_rate = 0.01\n",
        "# number of hidden layers = 6\n",
        "\n",
        "device = torch.device(\"cuda:0\" if torch.cuda.is_available() else \"cpu\")\n",
        "print(device)\n",
        "\n",
        "train_set = datasets.FashionMNIST(root = './data', train = True, transform = transforms.ToTensor(), download = True)\n",
        "test_set = datasets.FashionMNIST(root = './data', train = False, transform = transforms.ToTensor())\n",
        "\n",
        "num_epochs = num_iters / (len(train_set) / batch_size)\n",
        "num_epochs = int(num_epochs)\n",
        "\n",
        "train_loader = torch.utils.data.DataLoader(dataset = train_set, batch_size = batch_size, shuffle = True)\n",
        "test_loader = torch.utils.data.DataLoader(dataset = test_set, batch_size = batch_size, shuffle = False)\n",
        "\n",
        "print('Train loader: ', len(train_loader))\n",
        "print('Test loader: ', len(test_loader))\n",
        "print('Per image size: ', train_set[0][0].numpy().shape)\n",
        "print('Sample label: 1st image: ', train_set[0][1])"
      ],
      "id": "xGQOFe_OSB-B",
      "execution_count": null,
      "outputs": [
        {
          "name": "stdout",
          "output_type": "stream",
          "text": [
            "cuda:0\n",
            "Downloading http://fashion-mnist.s3-website.eu-central-1.amazonaws.com/train-images-idx3-ubyte.gz\n",
            "Downloading http://fashion-mnist.s3-website.eu-central-1.amazonaws.com/train-images-idx3-ubyte.gz to ./data\\FashionMNIST\\raw\\train-images-idx3-ubyte.gz\n"
          ]
        },
        {
          "name": "stderr",
          "output_type": "stream",
          "text": [
            "100.0%\n"
          ]
        },
        {
          "name": "stdout",
          "output_type": "stream",
          "text": [
            "Extracting ./data\\FashionMNIST\\raw\\train-images-idx3-ubyte.gz to ./data\\FashionMNIST\\raw\n",
            "\n",
            "Downloading http://fashion-mnist.s3-website.eu-central-1.amazonaws.com/train-labels-idx1-ubyte.gz\n",
            "Downloading http://fashion-mnist.s3-website.eu-central-1.amazonaws.com/train-labels-idx1-ubyte.gz to ./data\\FashionMNIST\\raw\\train-labels-idx1-ubyte.gz\n"
          ]
        },
        {
          "name": "stderr",
          "output_type": "stream",
          "text": [
            "100.6%\n"
          ]
        },
        {
          "name": "stdout",
          "output_type": "stream",
          "text": [
            "Extracting ./data\\FashionMNIST\\raw\\train-labels-idx1-ubyte.gz to ./data\\FashionMNIST\\raw\n",
            "\n",
            "Downloading http://fashion-mnist.s3-website.eu-central-1.amazonaws.com/t10k-images-idx3-ubyte.gz\n",
            "Downloading http://fashion-mnist.s3-website.eu-central-1.amazonaws.com/t10k-images-idx3-ubyte.gz to ./data\\FashionMNIST\\raw\\t10k-images-idx3-ubyte.gz\n"
          ]
        },
        {
          "name": "stderr",
          "output_type": "stream",
          "text": [
            "100.0%\n"
          ]
        },
        {
          "name": "stdout",
          "output_type": "stream",
          "text": [
            "Extracting ./data\\FashionMNIST\\raw\\t10k-images-idx3-ubyte.gz to ./data\\FashionMNIST\\raw\n",
            "\n",
            "Downloading http://fashion-mnist.s3-website.eu-central-1.amazonaws.com/t10k-labels-idx1-ubyte.gz\n",
            "Downloading http://fashion-mnist.s3-website.eu-central-1.amazonaws.com/t10k-labels-idx1-ubyte.gz to ./data\\FashionMNIST\\raw\\t10k-labels-idx1-ubyte.gz\n"
          ]
        },
        {
          "name": "stderr",
          "output_type": "stream",
          "text": [
            "119.3%"
          ]
        },
        {
          "name": "stdout",
          "output_type": "stream",
          "text": [
            "Extracting ./data\\FashionMNIST\\raw\\t10k-labels-idx1-ubyte.gz to ./data\\FashionMNIST\\raw\n",
            "\n",
            "Train loader:  3000\n",
            "Test loader:  500\n",
            "Per image size:  (1, 28, 28)\n",
            "Sample label: 1st image:  9\n"
          ]
        },
        {
          "name": "stderr",
          "output_type": "stream",
          "text": [
            "\n",
            "C:\\Users\\faisa\\Dev\\Tools\\anaconda3\\envs\\PyTorch190\\lib\\site-packages\\torchvision\\datasets\\mnist.py:498: UserWarning: The given NumPy array is not writeable, and PyTorch does not support non-writeable tensors. This means you can write to the underlying (supposedly non-writeable) NumPy array using the tensor. You may want to copy the array to protect its data or make it writeable before converting it to a tensor. This type of warning will be suppressed for the rest of this program. (Triggered internally at  ..\\torch\\csrc\\utils\\tensor_numpy.cpp:180.)\n",
            "  return torch.from_numpy(parsed.astype(m[2], copy=False)).view(*s)\n"
          ]
        }
      ]
    },
    {
      "cell_type": "code",
      "metadata": {
        "colab": {
          "base_uri": "https://localhost:8080/"
        },
        "id": "zDX2T2MIHdnD",
        "outputId": "304f533e-cedd-4236-c2a1-ce4d4b3b6def"
      },
      "source": [
        "iter = 0\n",
        "iter_list = []\n",
        "loss_list = []\n",
        "\n",
        "\n",
        "model = DeepNeuralNetworkModel(input_size = input_dim, num_classes = output_dim, num_hidden = num_hidden)\n",
        "model.to(device)\n",
        "\n",
        "criterion = nn.CrossEntropyLoss()\n",
        "optimizer = torch.optim.Adam(model.parameters(), lr = learning_rate)\n",
        "\n",
        "for epoch in range(num_epochs):\n",
        "    for i, (images, labels) in enumerate(train_loader):\n",
        "        images = images.view(-1, 28*28).to(device)\n",
        "        labels = labels.to(device)\n",
        "\n",
        "        optimizer.zero_grad()\n",
        "\n",
        "        outputs = model(images)\n",
        "\n",
        "        loss = criterion(outputs, labels)\n",
        "        loss_list.append(loss)\n",
        "\n",
        "        loss.backward()\n",
        "\n",
        "        optimizer.step()\n",
        "\n",
        "        iter += 1\n",
        "        iter_list.append(iter)\n",
        "\n",
        "        if iter % 500 == 0:       \n",
        "            correct = 0\n",
        "            total = 0\n",
        "            for images, labels in test_loader:\n",
        "                images = images.view(-1, 28*28).to(device)\n",
        "                outputs = model(images)\n",
        "                _, predicted = torch.max(outputs, 1)\n",
        "                total += labels.size(0)\n",
        "\n",
        "                if torch.cuda.is_available():\n",
        "                    correct += (predicted.cpu() == labels.cpu()).sum() \n",
        "                else:\n",
        "                    correct += (predicted == labels).sum()\n",
        "\n",
        "            accuracy = 100 * correct.item() / total\n",
        "            print('Iteration: {}. Loss: {}. Accuracy: {}'.format(iter, loss.item(), accuracy))"
      ],
      "id": "zDX2T2MIHdnD",
      "execution_count": null,
      "outputs": [
        {
          "name": "stderr",
          "output_type": "stream",
          "text": [
            "C:\\Users\\faisa\\Dev\\Tools\\anaconda3\\envs\\PyTorch190\\lib\\site-packages\\torch\\cuda\\__init__.py:83: UserWarning: \n",
            "    Found GPU%d %s which is of cuda capability %d.%d.\n",
            "    PyTorch no longer supports this GPU because it is too old.\n",
            "    The minimum cuda capability supported by this library is %d.%d.\n",
            "    \n",
            "  warnings.warn(old_gpu_warn.format(d, name, major, minor, min_arch // 10, min_arch % 10))\n"
          ]
        },
        {
          "name": "stdout",
          "output_type": "stream",
          "text": [
            "Iteration: 500. Loss: 0.9181587100028992. Accuracy: 63.62\n",
            "Iteration: 1000. Loss: 0.787031888961792. Accuracy: 69.77\n",
            "Iteration: 1500. Loss: 0.6704389452934265. Accuracy: 68.75\n",
            "Iteration: 2000. Loss: 0.4942539632320404. Accuracy: 72.78\n",
            "Iteration: 2500. Loss: 1.1130439043045044. Accuracy: 71.02\n",
            "Iteration: 3000. Loss: 0.7626029253005981. Accuracy: 69.2\n",
            "Iteration: 3500. Loss: 0.6898616552352905. Accuracy: 71.71\n",
            "Iteration: 4000. Loss: 0.4016701579093933. Accuracy: 74.81\n",
            "Iteration: 4500. Loss: 0.7102453112602234. Accuracy: 64.35\n",
            "Iteration: 5000. Loss: 1.0515044927597046. Accuracy: 69.23\n",
            "Iteration: 5500. Loss: 0.6421090364456177. Accuracy: 65.37\n",
            "Iteration: 6000. Loss: 0.3975197374820709. Accuracy: 76.77\n",
            "Iteration: 6500. Loss: 0.6021232008934021. Accuracy: 75.24\n",
            "Iteration: 7000. Loss: 1.0589137077331543. Accuracy: 63.97\n",
            "Iteration: 7500. Loss: 0.8309032320976257. Accuracy: 72.79\n",
            "Iteration: 8000. Loss: 0.5602055788040161. Accuracy: 76.42\n",
            "Iteration: 8500. Loss: 0.7040634155273438. Accuracy: 70.68\n",
            "Iteration: 9000. Loss: 0.5834344029426575. Accuracy: 74.85\n",
            "Iteration: 9500. Loss: 1.1823104619979858. Accuracy: 76.41\n",
            "Iteration: 10000. Loss: 0.7806608080863953. Accuracy: 73.63\n",
            "Iteration: 10500. Loss: 0.35529232025146484. Accuracy: 72.76\n",
            "Iteration: 11000. Loss: 1.5336662530899048. Accuracy: 58.0\n",
            "Iteration: 11500. Loss: 1.0915721654891968. Accuracy: 59.93\n",
            "Iteration: 12000. Loss: 1.0998592376708984. Accuracy: 57.02\n",
            "Iteration: 12500. Loss: 1.6497585773468018. Accuracy: 63.42\n",
            "Iteration: 13000. Loss: 0.8025339841842651. Accuracy: 59.76\n",
            "Iteration: 13500. Loss: 0.763063907623291. Accuracy: 65.71\n",
            "Iteration: 14000. Loss: 0.7797721028327942. Accuracy: 72.8\n",
            "Iteration: 14500. Loss: 0.5840750932693481. Accuracy: 73.09\n",
            "Iteration: 15000. Loss: 0.7916721105575562. Accuracy: 73.66\n",
            "Iteration: 15500. Loss: 0.6260111331939697. Accuracy: 76.78\n",
            "Iteration: 16000. Loss: 0.5544825196266174. Accuracy: 71.49\n",
            "Iteration: 16500. Loss: 1.008174180984497. Accuracy: 73.5\n",
            "Iteration: 17000. Loss: 0.5590001940727234. Accuracy: 67.82\n",
            "Iteration: 17500. Loss: 0.6346126794815063. Accuracy: 76.27\n",
            "Iteration: 18000. Loss: 0.6789566278457642. Accuracy: 75.26\n"
          ]
        }
      ]
    },
    {
      "cell_type": "markdown",
      "metadata": {
        "id": "PrZxuQMFHdnD"
      },
      "source": [
        "### **Save Model**"
      ],
      "id": "PrZxuQMFHdnD"
    },
    {
      "cell_type": "code",
      "metadata": {
        "id": "4cz0h7C_HdnD"
      },
      "source": [
        "root_path = '/content/gdrive/MyDrive/Colab Notebooks/SCLab/Assignment2/'\n",
        "save_model = True\n",
        "\n",
        "if save_model is True:\n",
        "    torch.save(model.state_dict(), root_path + 'digit_classifier_dnn_exp1_1.pkl') "
      ],
      "id": "4cz0h7C_HdnD",
      "execution_count": null,
      "outputs": []
    },
    {
      "cell_type": "markdown",
      "metadata": {
        "id": "eakBeUMDHdnD"
      },
      "source": [
        "### **Load Model**"
      ],
      "id": "eakBeUMDHdnD"
    },
    {
      "cell_type": "code",
      "metadata": {
        "id": "61i7jTf3HdnD"
      },
      "source": [
        "load_model = True\n",
        "\n",
        "if load_model is True:\n",
        "    model.load_state_dict(torch.load(root_path + 'digit_classifier_dnn_exp1_1.pkl'))"
      ],
      "id": "61i7jTf3HdnD",
      "execution_count": null,
      "outputs": []
    },
    {
      "cell_type": "markdown",
      "metadata": {
        "id": "xdvrtDcvHdnD"
      },
      "source": [
        "\n",
        "## **Loss Curve**"
      ],
      "id": "xdvrtDcvHdnD"
    },
    {
      "cell_type": "code",
      "metadata": {
        "colab": {
          "base_uri": "https://localhost:8080/",
          "height": 279
        },
        "id": "IGl6OjxkHdnD",
        "outputId": "2b18db8c-8783-46a8-8a07-443541b5d461"
      },
      "source": [
        "perf = []\n",
        "for i in range(len(iter_list)):\n",
        "    perf.append([iter_list[i], loss_list[i].item()])\n",
        "perf\n",
        "plt.plot([i[0] for i in perf], [i[1] for i in perf])\n",
        "plt.ylabel('Loss')\n",
        "plt.xlabel('Iteration')\n",
        "plt.savefig('loss_ex1_1.png')\n",
        "plt.show()"
      ],
      "id": "IGl6OjxkHdnD",
      "execution_count": null,
      "outputs": [
        {
          "data": {
            "image/png": "[encoded data removed]",
            "text/plain": [
              "<Figure size 432x288 with 1 Axes>"
            ]
          },
          "metadata": {
            "needs_background": "light"
          },
          "output_type": "display_data"
        }
      ]
    }
  ]
}